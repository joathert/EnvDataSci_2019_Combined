{
    "cells": [
        {
            "cell_type": "markdown",
            "metadata": {},
            "source": [
                "# *README* before starting!\n",
                "\n",
                "Welcome to Environmental Data Science's introducing R session. In this\n",
                "session we start from scratch and assume no prior knowledge of R. We\n",
                "will cover the very basics of the R language. Things like Rstudio and\n",
                "ggplot2 will be covered in future sessions.\n",
                "\n",
                "\n",
                "Fill in the blanks as you go to test your understanding, and keep this\n",
                "handy as a reference for basic terminology.\n",
                "\n",
                "Used R before?\n",
                "\n",
                "It could still be worth going through the whole notebook or \n",
                "just particular sections; there might even be something you skipped over\n",
                "first time round. \n",
                "\n",
                "On the other hand if you understand and can explain each of the \n",
                "following terms and how they relate to R, then perhaps this tutorial is\n",
                "not for you. In this session we will go over:\n",
                "\n",
                "* variable and operators \n",
                "* data types\n",
                "* Data structures \n",
                "* lists \n",
                "* factors\n",
                "* dataframes \n",
                "* matrices\n",
                "* functions \n",
                "* applying functions.     \n",
                "\n",
                "By the end of the session you should know what each of these terms\n",
                "refers to. \n",
                "\n",
                "As an aside, the *dictionary* of programming languages\n",
                "borrows heavily from logic and mathematics. This is especially true\n",
                "for R, which is a language designed with applied mathematics (statistics) in\n",
                "mind. Knowing the mathematical meaning of a word, e.g. a matrix is \n",
                "(imprecisely) a grid of numbers, helps with knowing what R is \n",
                "aiming for.\n",
                "\n",
                "\n",
                "Let's get started!  \n",
                "\n",
                "#1. Variables and operators\n",
                "\n",
                "## 1.1. Variables\n",
                "A **variable** holds a value, and has a name. The value of a variable\n",
                "can change, hence being variable and not constant. In R we assign a\n",
                "variable using the following symbols *<- , ->, = *, such symbols are\n",
                "referred to as **operators**, there are lots of different types of\n",
                "operators (more on those later!).\n",
                "\n",
                "Let's name our variable *x* and assign it the value 1:\n"
            ]
        },
        {
            "cell_type": "code",
            "execution_count": null,
            "metadata": {},
            "outputs": [],
            "source": [
                "x<-1\n",
                "\n"
            ]
        },
        {
            "cell_type": "markdown",
            "metadata": {},
            "source": [
                "If we want to show the contents of x, we will have to use the *print()* function \n",
                "\n"
            ]
        },
        {
            "cell_type": "code",
            "execution_count": null,
            "metadata": {},
            "outputs": [],
            "source": [
                "print(x)\n",
                "\n"
            ]
        },
        {
            "cell_type": "markdown",
            "metadata": {},
            "source": [
                "The name of a variable should be unique, and can consist of letters,\n",
                "numbers, underline (_) or dots (.). The variable should start with a letter\n",
                "or a dot (this dot cannot followed by a number). Variables  cannot start with\n",
                "a number or underline. Can you find which variable name\n",
                "is incorrect?\n",
                "\n",
                "* x.1<-1  \n",
                "* x_2<-2 \n",
                "* .x<-3  \n",
                "* 4y<-5  \n",
                "* _z<-6  \n",
                "* _2<-7  \n",
                "* .2a<-8*\n",
                "\n",
                "Try each statement out here:\n"
            ]
        },
        {
            "cell_type": "code",
            "execution_count": null,
            "metadata": {},
            "outputs": [],
            "source": [
                "\n",
                "\n"
            ]
        },
        {
            "cell_type": "markdown",
            "metadata": {},
            "source": [
                "When something is wrong R will print an error message to screen. Make sure\n",
                "to read this message carefully, and to digest and understand the computer\n",
                "speak. If you do not understand then Google away! \n",
                "\n",
                "##1.2. Data types\n",
                "\n",
                "Every variable has a **data type**. The data type of a variable is its\n",
                "defining quality, it is what it is! In R, there are several basic data \n",
                "types that we typically use:\n",
                "\n",
                "* character: a \n",
                "* numeric: 2,0, or 5.6 \n",
                "* integer: 4L (the L means R will store 4 as integer) \n",
                "* logical: TRUE, FALSE\n",
                "\n",
                "The above datatypes are referred to as *atomic* in R speak. We will \n",
                "sometimes drop the data part of the word and simply refer to the\n",
                "**type** of a variable when we talk about datatypes.\n",
                "\n",
                "Create a variable of type character, and name it \"y\". Print\n",
                "it out in the same box:\n"
            ]
        },
        {
            "cell_type": "code",
            "execution_count": null,
            "metadata": {},
            "outputs": [],
            "source": [
                "\n",
                "\n"
            ]
        },
        {
            "cell_type": "markdown",
            "metadata": {},
            "source": [
                "To show the type of a variable you can use **class()** command. \n",
                "What is the type of **x** from the above example?\n"
            ]
        },
        {
            "cell_type": "code",
            "execution_count": null,
            "metadata": {},
            "outputs": [],
            "source": [
                "\n",
                "\n"
            ]
        },
        {
            "cell_type": "markdown",
            "metadata": {},
            "source": [
                "##1.3. Operators \n",
                "\n",
                "We already met assignment operators above e.g. *<-*. But there are\n",
                "lots of other operators too. Operators connect variables by doing\n",
                "something to them. Perhaps the most obvious example is mathematical\n",
                "operations, which are performed by the **arithmetic operators**.\n",
                "\n",
                "###1.3.1.Arithmetic operators\n",
                "\n",
                "We can add, substract, mutiply, divide, equal, expeonent variables\n",
                "in R using the following **arithmetic operators**:  +, -, *, /, =, ^ \n"
            ]
        },
        {
            "cell_type": "code",
            "execution_count": null,
            "metadata": {},
            "outputs": [],
            "source": [
                "math1=5+6*8-9+5/6\n",
                "print(math1)\n",
                "4^3\n"
            ]
        },
        {
            "cell_type": "markdown",
            "metadata": {},
            "source": [
                "###1.3.2.Relational operators\n",
                "\n",
                "**Relational operators** are used to compare variables. The output\n",
                "of such a comparison is a *boolean* i.e. a *TRUE* or *FALSE* value. \n",
                "We can use such operators to test statements such as is z greater \n",
                "than x? First we have to assign z a value:\n"
            ]
        },
        {
            "cell_type": "code",
            "execution_count": null,
            "metadata": {},
            "outputs": [],
            "source": [
                "z=20\n",
                "\n"
            ]
        },
        {
            "cell_type": "markdown",
            "metadata": {},
            "source": [
                "now let's test our hypothesis:\n",
                "\n"
            ]
        },
        {
            "cell_type": "code",
            "execution_count": null,
            "metadata": {},
            "outputs": [],
            "source": [
                "z>x\n",
                "\n"
            ]
        },
        {
            "cell_type": "markdown",
            "metadata": {},
            "source": [
                "here is a list of operators: \n",
                "\n",
                "* \">\" greater than\n",
                "* \"<\"  less than\n",
                "* \">=\"  greater than or equal to \n",
                "* \"<=\"  less than or equal to \n",
                "* \"==\"   equal to \n",
                "* \"!=\"   not equal to\n",
                "\n",
                "\n",
                "###1.3.3. Logical operators\n",
                "\n",
                "More logic here! You will notice that logic is a recurring theme, as computer\n",
                "languages are rooted in logic, 0s and 1s etc.\n",
                "\n",
                "*Logical operators* can be used to chain operators together. Again the output\n",
                "is a Boolean *TRUE* or *FALSE*. For example, to test if x is greater than 0 and\n",
                "less than 10:\n"
            ]
        },
        {
            "cell_type": "code",
            "execution_count": null,
            "metadata": {},
            "outputs": [],
            "source": [
                "x>0 & x<10\n",
                "\n"
            ]
        },
        {
            "cell_type": "markdown",
            "metadata": {},
            "source": [
                "There are 3 operators in the above **syntax** (bit of code). Two \n",
                "relational operators and one logical, which is the & symbol.\n",
                "There is also an or symbol: |.\n",
                "\n",
                "How do you test if z is greater than 100 **or** greater than 1000? \n"
            ]
        },
        {
            "cell_type": "code",
            "execution_count": null,
            "metadata": {},
            "outputs": [],
            "source": [
                "\n",
                "\n"
            ]
        },
        {
            "cell_type": "markdown",
            "metadata": {},
            "source": [
                "###1.3.4.Miscellaneous Operators\n",
                "\n",
                "There are also a few other operators that don't fit neatly \n",
                "into any other bracket. The colon operator **:** is very handy as it\n",
                "is used to generate a sequence of numbers:\n"
            ]
        },
        {
            "cell_type": "code",
            "execution_count": null,
            "metadata": {},
            "outputs": [],
            "source": [
                "x1 <- 1:10\n",
                "print(x1)\n"
            ]
        },
        {
            "cell_type": "markdown",
            "metadata": {},
            "source": [
                "The **%in%** operator can be used to check if the elements \n",
                "that occur in ** A ** also occur in ** B **\n"
            ]
        },
        {
            "cell_type": "code",
            "execution_count": null,
            "metadata": {},
            "outputs": [],
            "source": [
                "A<-1:10\n",
                "B<-3:6\n",
                "print(A%in%B)\n"
            ]
        },
        {
            "cell_type": "markdown",
            "metadata": {},
            "source": [
                "#2. Data structures\n",
                "\n",
                "Put simply **data structures** are groups of variables. You can group variables\n",
                "of different data types, however the simplest data structures occur when\n",
                "you group variables of the same type. These simple structures are called\n",
                "**vectors**.\n",
                "\n",
                "##2.1. Vectors\n",
                "\n",
                "A vector is a one dimensional array that can consist of\n",
                "numeric, character,or logical data. All the elements inside a vector\n",
                "should be a single data type only. A vector is formed using function\n",
                "**c()**. \n",
                "\n",
                "Let's try the following out:\n",
                "\n",
                "1.  create a vector named as a, store letters of b to e\n",
                "into a \n",
                "2.  print a \n",
                "3.  check data type of a\n",
                "4.  check the structure of a.\n"
            ]
        },
        {
            "cell_type": "code",
            "execution_count": null,
            "metadata": {},
            "outputs": [],
            "source": [
                "#(1)create a character vector: a\n",
                "a<-c('b','c','d','e')\n",
                "#(2)print: a\n",
                "print(a)\n"
            ]
        },
        {
            "cell_type": "markdown",
            "metadata": {},
            "source": "\n"
        },
        {
            "cell_type": "code",
            "execution_count": null,
            "metadata": {},
            "outputs": [],
            "source": [
                "#(3)check type of a\n",
                "class(a)\n"
            ]
        },
        {
            "cell_type": "markdown",
            "metadata": {},
            "source": "\n"
        },
        {
            "cell_type": "code",
            "execution_count": null,
            "metadata": {},
            "outputs": [],
            "source": [
                "#(4)check structure of a\n",
                "str(a)\n"
            ]
        },
        {
            "cell_type": "markdown",
            "metadata": {},
            "source": [
                "The structure command displays the structure of the object in question. In\n",
                "this case **a** is character vector.\n",
                "\n",
                "You should try the following:\n",
                "\n",
                "1. create a vector named as a1, store first 10 numbers into a1\n",
                "2. print a1 \n",
                "3. check type of a1, and\n",
                "4. structure of a1.\n"
            ]
        },
        {
            "cell_type": "code",
            "execution_count": null,
            "metadata": {},
            "outputs": [],
            "source": [
                "\n",
                "\n"
            ]
        },
        {
            "cell_type": "markdown",
            "metadata": {},
            "source": [
                "##2.2. Matrices \n",
                "\n",
                "If we extend our concept of a vector into two dimensions we end up with a \n",
                "2D grid of the same type; this is a **matrix**. Matices are created by the \n",
                "matrix() function:\n"
            ]
        },
        {
            "cell_type": "code",
            "execution_count": null,
            "metadata": {},
            "outputs": [],
            "source": [
                "d<-c(1:20)\n",
                "#create a matrix\n",
                "matr1<-matrix(d,nrow = 5,ncol=4,byrow = T,\n",
                "              dimnames =list(c('r1','r2','r3','r4','r5'),\n",
                "                             c('c1','c2','c3','c4')))\n",
                "matr1\n"
            ]
        },
        {
            "cell_type": "markdown",
            "metadata": {},
            "source": [
                "Let's checkout the structure of our matrix:\n",
                "\n"
            ]
        },
        {
            "cell_type": "code",
            "execution_count": null,
            "metadata": {},
            "outputs": [],
            "source": [
                "str(matr1)\n",
                "\n"
            ]
        },
        {
            "cell_type": "markdown",
            "metadata": {},
            "source": [
                "##2.3. Arrays \n",
                "\n",
                "An array is similar to a matrix, but can have more than \n",
                "two dimensions. Arrays are created with the **array()** function\n"
            ]
        },
        {
            "cell_type": "code",
            "execution_count": null,
            "metadata": {},
            "outputs": [],
            "source": [
                "x<-c('a1','a2','a3')\n",
                "y<-c('b1','b2')\n",
                "z<-c('c1','c2','c3','c4','c5')\n",
                "mydata<-c(1:30)\n",
                "array1<-array(mydata,c(3,2,5),\n",
                "dimnames = list(x,y,z))\n",
                "array1\n"
            ]
        },
        {
            "cell_type": "markdown",
            "metadata": {},
            "source": [
                "## 2.4. Lists\n",
                "\n",
                "Next we come to **lists**, these are different to matrices and vectors because\n",
                "they can store objetcts of different type.\n",
                "\n",
                "Let's make a list containing lots of different types and display the\n",
                "results ...\n"
            ]
        },
        {
            "cell_type": "code",
            "execution_count": null,
            "metadata": {},
            "outputs": [],
            "source": [
                "alist<-list(c('b','c','d','e'),\n",
                "            c('control','control','drought'),\n",
                "            c(1:10),\n",
                "            c(1L,3L),\n",
                "            88,\n",
                "            '%&()',\n",
                "            c(0.3,2.34,6.57,0),\n",
                "            3+9,\n",
                "            c('4','9'),\n",
                "            list(c(1,2,'g')))\n",
                "print(alist)\n"
            ]
        },
        {
            "cell_type": "markdown",
            "metadata": {},
            "source": "\n"
        },
        {
            "cell_type": "code",
            "execution_count": null,
            "metadata": {},
            "outputs": [],
            "source": [
                "class(alist)\n",
                "\n"
            ]
        },
        {
            "cell_type": "markdown",
            "metadata": {},
            "source": "\n"
        },
        {
            "cell_type": "code",
            "execution_count": null,
            "metadata": {},
            "outputs": [],
            "source": [
                "str(alist)\n",
                "\n"
            ]
        },
        {
            "cell_type": "markdown",
            "metadata": {},
            "source": [
                "## 2.5. Advanced data structures: Dataframes \n",
                "\n",
                "It is no exaggeration to say that **Dataframes** are probably the most \n",
                "important data structure used in R. Dataframes are liked matrices, with\n",
                "the key difference being that we can mix up datatypes in the same \n",
                "object. This turns out to be incredibly useful in a number of \n",
                "standard data analysis problems, in short our data is never simple\n",
                "and dataframes take care of this.\n",
                "\n",
                "Dataframes are generated by the *data.frame()* function. In a dataframe:\n",
                "\n",
                "* the columns are variables\n",
                "* the rows are observations (the row\n",
                "numbers will be object numbers) \n",
                "* all the variables are of same length.\n"
            ]
        },
        {
            "cell_type": "code",
            "execution_count": null,
            "metadata": {},
            "outputs": [],
            "source": [
                "#create a dataframe\n",
                "x=c(1:3)\n",
                "y=c('a','b','c')\n",
                "z=c(30,40,50)\n",
                "df1<-data.frame(x,y,z)\n",
                "#print df1\n",
                "print(df1)\n"
            ]
        },
        {
            "cell_type": "markdown",
            "metadata": {},
            "source": "\n"
        },
        {
            "cell_type": "code",
            "execution_count": null,
            "metadata": {},
            "outputs": [],
            "source": [
                "#check the structure of df1\n",
                "str(df1)\n"
            ]
        },
        {
            "cell_type": "markdown",
            "metadata": {},
            "source": [
                "Try to create a new dataframe called **mydata**. This dataframe should \n",
                "have 2 variables and 4 observations. Mix up the types of the\n",
                "variables:\n"
            ]
        },
        {
            "cell_type": "code",
            "execution_count": null,
            "metadata": {},
            "outputs": [],
            "source": [
                "\n",
                "\n"
            ]
        },
        {
            "cell_type": "markdown",
            "metadata": {},
            "source": [
                "## 2.6 Additional data type: factors\n",
                "\n",
                "A *factor* is a kind of advanced vector, that is useful in some analyses. \n",
                "\n",
                "All the elements inside a factor are characters. We start by creating a \n",
                "normal character vector:\n"
            ]
        },
        {
            "cell_type": "code",
            "execution_count": null,
            "metadata": {},
            "outputs": [],
            "source": [
                "#create a vector\n",
                "treatment<-c('control','control','drought','nutrient','drought')\n",
                "#check the type of treatment\n",
                "class(treatment)\n"
            ]
        },
        {
            "cell_type": "markdown",
            "metadata": {},
            "source": [
                "Next we convert our character vector to a factor using the **factor()** function:\n",
                "\n"
            ]
        },
        {
            "cell_type": "code",
            "execution_count": null,
            "metadata": {},
            "outputs": [],
            "source": [
                "#create a factor\n",
                "treatment.factor<-factor(treatment)\n",
                "#check the type\n",
                "class(treatment.factor)\n"
            ]
        },
        {
            "cell_type": "markdown",
            "metadata": {},
            "source": [
                "The difference between factors and character vectors, is that factors\n",
                " contain levels which can be examined using **levels()** function\n"
            ]
        },
        {
            "cell_type": "code",
            "execution_count": null,
            "metadata": {},
            "outputs": [],
            "source": [
                "#check levels of treatment.factor\n",
                "levels(treatment.factor)\n"
            ]
        },
        {
            "cell_type": "markdown",
            "metadata": {},
            "source": [
                "R also stores factors as numbers rather than characters, this has \n",
                "some consequences which might not be obvious. See here for\n",
                "more details on factors https://swcarpentry.github.io/r-novice-inflammation/12-supp-factors/ \n",
                "\n",
                "\n",
                "# 3. Control flow: if statements and loops\n",
                "\n",
                "Now that we have defined our basic structures (e.g. vectors) we can \n",
                "start to apply some fancier programming constructs. These fall under\n",
                "the broad category of Control Flow, as they can be used to direct\n",
                "your program.\n",
                "\n",
                "In R, the body (main bit) of the control flow statement is usually\n",
                "places in curly braces *{ code here }*. (note howwever that these\n",
                "braces can be omitted if your statement only spans a single line).\n",
                "\n",
                "## 3.1. The if statement\n",
                "\n",
                "The **if statement** is one of the most widely used constructs in most\n",
                "programming langauge. Put simply it allows the program to decide whether\n",
                "to do something only if some condition has been fufilled. \n",
                "\n",
                "For example if x is below some number, we want to print a statement\n",
                "that is true. To achieve this we would do the following:\n"
            ]
        },
        {
            "cell_type": "code",
            "execution_count": null,
            "metadata": {},
            "outputs": [],
            "source": [
                "x<-10\n",
                "if (x<50) {print('X is smaller than 5')}\n"
            ]
        },
        {
            "cell_type": "markdown",
            "metadata": {},
            "source": [
                "We use the **else** keyword to chain together multiple clauses. This\n",
                "saves us retyping the whole construct over and over. Try to chain the \n",
                "above example together using the **else** statement:\n"
            ]
        },
        {
            "cell_type": "code",
            "execution_count": null,
            "metadata": {},
            "outputs": [],
            "source": [
                "\n",
                "\n"
            ]
        },
        {
            "cell_type": "markdown",
            "metadata": {},
            "source": [
                "We can also use a the *ifelse()* function to achieve a similar\n",
                "result to control flow statements. This works as follows:\n"
            ]
        },
        {
            "cell_type": "code",
            "execution_count": null,
            "metadata": {},
            "outputs": [],
            "source": [
                "z<-c(1,10,30)\n",
                "ifelse (z==10|z>15,'yes','no')\n"
            ]
        },
        {
            "cell_type": "markdown",
            "metadata": {},
            "source": [
                "## 3.2. Loops\n",
                "\n",
                "*For loops* are programming contructs used to repeat stuff over and\n",
                "over, in programming terms this is referred to as **iteration**. Iteration\n",
                "is at the heart of solving problems using computing, the computer is \n",
                "put to task to repeat tasks that are either boring or impossible for\n",
                "humans to accomplish in a reasonable time frame!\n",
                "\n",
                "A for loop iterates over a sequence one element at a time. The for loop\n",
                "contains the *for* statement, a *variable* in some normal braces, and\n",
                "the body (main bit) of the loop is placed between the curly braces. The\n",
                "body is where the repetiton occurs.\n",
                "\n",
                "If we take an example, here x.seq is a vector that we plan to iterate over,\n",
                "at each step (iteration) we want to add a new value (y) to the element\n",
                "in x that is the subject of the iteration. At each step we \n",
                "also print the variable.\n"
            ]
        },
        {
            "cell_type": "code",
            "execution_count": null,
            "metadata": {},
            "outputs": [],
            "source": [
                "x.seq<-c(1:10)\n",
                "y<-2\n",
                "for (i in x.seq){\n",
                " z<-y+i\n",
                " print(z)\n",
                "}\n"
            ]
        },
        {
            "cell_type": "markdown",
            "metadata": {},
            "source": [
                "Go ahead and  write a for loop where we square \"i in x.seq\", and also print the\n",
                "resulting squared variable\n",
                "at each step.\n"
            ]
        },
        {
            "cell_type": "code",
            "execution_count": null,
            "metadata": {},
            "outputs": [],
            "source": [
                "\n",
                "\n"
            ]
        },
        {
            "cell_type": "markdown",
            "metadata": {},
            "source": [
                "*While loops* are similar to for loops, except in these loops iteration continues\n",
                "until some condition is reached. In the following example we keep looping until\n",
                "our x variable hits the value of 8 (10-2), then the loop stops.\n"
            ]
        },
        {
            "cell_type": "code",
            "execution_count": null,
            "metadata": {},
            "outputs": [],
            "source": [
                "x<-2\n",
                "while(x<10) {\n",
                "  print('yes')\n",
                "  x=x+2\n",
                "  }\n"
            ]
        },
        {
            "cell_type": "markdown",
            "metadata": {},
            "source": [
                "There is another type of loop called a *repeat loop*, these are similar\n",
                "to while loops but to stop the loop we use the keyword *break* and supply\n",
                "a condition within the loop itself:\n"
            ]
        },
        {
            "cell_type": "code",
            "execution_count": null,
            "metadata": {},
            "outputs": [],
            "source": [
                "x<-9\n",
                "\n",
                "repeat{\n",
                "\tprint (x)\n",
                "\tx <- x - 1\n",
                "\tif (x==8){\n",
                "\tbreak\n",
                "\t}\n",
                "\t\n",
                "}\n"
            ]
        },
        {
            "cell_type": "markdown",
            "metadata": {},
            "source": [
                "In most computing languages the above loops are similar in importance\n",
                "to if statements. R is a little different in this respect, as there\n",
                "are different methods of iteration that are just as powerful and\n",
                "sometimes preferable.  These alternate iteration methods are the\n",
                "**apply** functions discussed in the next section of the course. For\n",
                "programmers coming from other langauges, it is important to remember\n",
                "that in R, an apply function will typically take the place of a for\n",
                "loop.\n",
                "\n",
                "\n",
                "# 4. Functions and Applying functions\n",
                "\n",
                "Functions are central to the way R works; think of them as the\n",
                "building blocks of larger programs. Just like building blocks,\n",
                "functions are elements of a larger whole. If you want to take the next\n",
                "step beyond writing simple scripts, then functions are your friend!\n",
                "\n",
                "In simple terms, a function takes an input, does something to it, \n",
                "then returns something else which is the results of that something.  \n",
                "In R language, functions consist of *arguments* which are the input,\n",
                "the *body* which is the bit where things happen, and the *name*, which\n",
                "is self evident! \n",
                "\n",
                "## 4.1. Built-in functions\n",
                "\n",
                "Most things in R involve functions, typically these are built-in to \n",
                "the language or perhaps part of a package that you have installed.\n",
                "\n",
                "When you print something to the screen then you are using the **print** \n",
                "function:\n"
            ]
        },
        {
            "cell_type": "code",
            "execution_count": null,
            "metadata": {},
            "outputs": [],
            "source": [
                "print(\"print is a commonly used function!\")\n",
                "\n"
            ]
        },
        {
            "cell_type": "markdown",
            "metadata": {},
            "source": [
                "You can take a look at the contents of a function by typing the function\n",
                "name, but missing out the paranthesis:\n"
            ]
        },
        {
            "cell_type": "code",
            "execution_count": null,
            "metadata": {},
            "outputs": [],
            "source": [
                "print\n",
                "\n"
            ]
        },
        {
            "cell_type": "markdown",
            "metadata": {},
            "source": [
                "You can get information (help) on any function by placing the question \n",
                "mark operator at the front of a function (e.g \"?function\"), \n",
                "try it out with print:\n"
            ]
        },
        {
            "cell_type": "code",
            "execution_count": null,
            "metadata": {},
            "outputs": [],
            "source": [
                "\n",
                "\n"
            ]
        },
        {
            "cell_type": "markdown",
            "metadata": {},
            "source": [
                "The code inside the function is called the *body*, the input to the\n",
                "functions is referred to as the *argument*(s). \n",
                "\n",
                "Sometimes there is more than one function that achieves a similar\n",
                "result.  Can you think of another function that prints messages to the\n",
                "screen?\n"
            ]
        },
        {
            "cell_type": "code",
            "execution_count": null,
            "metadata": {},
            "outputs": [],
            "source": [
                "\n",
                "\n"
            ]
        },
        {
            "cell_type": "markdown",
            "metadata": {},
            "source": [
                "## 4.2. User-defined functions\n",
                "\n",
                "Built-in functions allow us to get stuff done, however user-defined \n",
                "functions allow us to build stuff! \n",
                "\n",
                "Time to make a function. First we need our function to have a\n",
                "purpose. Maybe our instrument has a linear calibration function. The\n",
                "aim of our function is to calculate this calibration using our data\n",
                "i.e. takes an input value, and multiply by a calibration coefficient\n",
                "to yield the calibrated value.\n"
            ]
        },
        {
            "cell_type": "code",
            "execution_count": null,
            "metadata": {},
            "outputs": [],
            "source": [
                "cal.eq <- function(instrument.data,cal.coeff=2.4){ \n",
                "       instrument.data * cal.coeff\n",
                "    }\n"
            ]
        },
        {
            "cell_type": "markdown",
            "metadata": {},
            "source": [
                "Next we should breakdown the individual parts of our function. The\n",
                "name of the function is *cal.eq*, the body of the function is the part\n",
                "in between the curly braces. Our function has two input arguments, the\n",
                "first is *instrument.data*, and the other is our calibration\n",
                "coefficient *cal.coeff* which is set to a default value of 2.4.\n",
                "\n",
                "Now try to test out the function with some data,\n",
                "x <- c(1:10)\n"
            ]
        },
        {
            "cell_type": "code",
            "execution_count": null,
            "metadata": {},
            "outputs": [],
            "source": [
                "\n",
                "\n"
            ]
        },
        {
            "cell_type": "markdown",
            "metadata": {},
            "source": [
                "One important note about functions; the output of an R function is\n",
                "whatever is calculated on the last line of the body. In our case we only\n",
                "have one line so that is what we get back. \n",
                "\n",
                "## 4.3. The apply family and anonymous functions\n",
                "\n",
                "The *apply* family are a special group of functions that most R users\n",
                "are familiar with. In essence apply functions are similar to for loops,\n",
                "in fact in R when you find yourself reaching for a for-loop we often ask\n",
                "ourselves can we use apply instead?\n",
                "\n",
                "Apply functions iterate (repeat) a function over a\n",
                "datastructure. Let's walk though an example. we can use the *paste*\n",
                "function to join two characters together e.g. 'hi ' and 'there'\n"
            ]
        },
        {
            "cell_type": "code",
            "execution_count": null,
            "metadata": {},
            "outputs": [],
            "source": [
                "paste('hi ','there')\n",
                "\n"
            ]
        },
        {
            "cell_type": "markdown",
            "metadata": {},
            "source": [
                "We could use apply to paste 'hi' to a vector of different words. We \n",
                "do this by defining a new *anonymous* function within the apply\n",
                "call. An *anonymous* function is simply a function with no name!\n",
                "Let's use the lapply function, as this is designed to work on \n",
                "vectors\n"
            ]
        },
        {
            "cell_type": "code",
            "execution_count": null,
            "metadata": {},
            "outputs": [],
            "source": [
                "sentenc.e <- c(\"This \",\" is a \", \" setence.\" )\n",
                "\n",
                "\n",
                "# now lets use apply to mess up our sentence!\n",
                "\n",
                "nonsense <- lapply(sentenc.e, function(input) paste(input,\" oops \")  )  \n"
            ]
        },
        {
            "cell_type": "markdown",
            "metadata": {},
            "source": [
                "We have now turned out sentence into nonsense! However if you\n",
                "inspect the *class()* of  nonsense you will notice that it is a list!\n"
            ]
        },
        {
            "cell_type": "code",
            "execution_count": null,
            "metadata": {},
            "outputs": [],
            "source": [
                "print(nonsense)\n",
                "class(nonsense)\n"
            ]
        },
        {
            "cell_type": "markdown",
            "metadata": {},
            "source": [
                "This is because lapply returns a list. Lists are a little tricky\n",
                "to work with. To convert back to a vector you can use another function:\n"
            ]
        },
        {
            "cell_type": "code",
            "execution_count": null,
            "metadata": {},
            "outputs": [],
            "source": [
                "nonsense <- unlist(nonsense)\n",
                "\n"
            ]
        },
        {
            "cell_type": "markdown",
            "metadata": {},
            "source": [
                "Now we have a character vector, just like our original sentence.\n",
                "\n",
                "In R there are a bunch of apply functions, each one is intended for\n",
                "slighly different inputs and outputs. Here are a few that you may\n",
                "come across:\n",
                "\n",
                "* lapply: input are vectors and lists. Outputs are list\n",
                "* sapply: input are vectors and lists. Outputs are \"user friendly\"\n",
                "* mapply: multivariate version of sapply. Outputs are \"user friendly\"\n",
                "\n",
                "\n",
                "what is the difference in using sapply over lapply in the example above?\n"
            ]
        },
        {
            "cell_type": "code",
            "execution_count": null,
            "metadata": {},
            "outputs": [],
            "source": [
                "\n",
                "\n"
            ]
        },
        {
            "cell_type": "markdown",
            "metadata": {},
            "source": [
                "# 5. Other stuff\n",
                "\n",
                "We have only scratched the very basics of R in this tutorial, there is whole\n",
                "world of resources out there! Many of them free due to R's ethos as\n",
                "an open source language.  For programmers coming from \n",
                "other languages, be sure to check out *The R inferno*. There are also\n",
                "a bunch of online tutorials for you to follow should you \n",
                "have time, Google is your friend here!\n",
                "\n",
                "## 5.1 installing packages \n",
                "\n",
                "Functions are bundled together in packages (libraries). Each package\n",
                "has a general theme e.g. ggplot2 is for improved plotting capabilites.\n",
                "You can download packages using the *install.packages* function. \n"
            ]
        }
    ],
    "metadata": {
        "anaconda-cloud": "",
        "kernelspec": {
            "display_name": "R",
            "langauge": "R",
            "name": "ir"
        },
        "language_info": {
            "codemirror_mode": "r",
            "file_extension": ".r",
            "mimetype": "text/x-r-source",
            "name": "R",
            "pygments_lexer": "r",
            "version": "3.4.1"
        }
    },
    "nbformat": 4,
    "nbformat_minor": 1
}
