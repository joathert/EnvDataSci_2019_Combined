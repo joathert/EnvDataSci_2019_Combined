{
 "cells": [
  {
   "cell_type": "markdown",
   "metadata": {},
   "source": [
    "Example SmartSMEAR API calls, see https://avaa.tdata.fi/web/smart/smear/api"
   ]
  },
  {
   "cell_type": "code",
   "execution_count": 8,
   "metadata": {
    "scrolled": true
   },
   "outputs": [],
   "source": [
    "urlstring<-\"https://avaa.tdata.fi/smear-services/smeardata.jsp?variables=Pamb0,UV_B&table=HYY_META&from=2016-04-11 00:00:00&to=2016-04-11 00:10:00&quality=ANY&averaging=NONE&type=NONE\"\n",
    "\n",
    "urlstring2<-\"https://avaa.tdata.fi/smear-services/smeardata.jsp?variables=Pamb0,UV_B&table=HYY_META&from=2016-04-11 00:11:00&to=2016-04-11 00:20:00&quality=ANY&averaging=NONE&type=NONE\"\n",
    "\n",
    "urlstring3<-\"https://avaa.tdata.fi/smear-services/smeardata.jsp?variables=Pamb0,UV_B&table=HYY_META&from=2016-02-11%2000:00:00.989&to=2016-02-12%2009:06:07.989&quality=ANY&averaging=30MIN&type=ARITHMETIC\"\n",
    "\n"
   ]
  },
  {
   "cell_type": "markdown",
   "metadata": {},
   "source": [
    "\n",
    "The most simple way for retrieving data via SmartSMEAR API is using read.csv which converts the data stream into data frame. It works in base R without additional libraries:\n"
   ]
  },
  {
   "cell_type": "code",
   "execution_count": 9,
   "metadata": {
    "scrolled": true
   },
   "outputs": [
    {
     "data": {
      "text/html": [
       "'data.frame'"
      ],
      "text/latex": [
       "'data.frame'"
      ],
      "text/markdown": [
       "'data.frame'"
      ],
      "text/plain": [
       "[1] \"data.frame\""
      ]
     },
     "metadata": {},
     "output_type": "display_data"
    },
    {
     "data": {
      "text/html": [
       "<table>\n",
       "<thead><tr><th scope=col>Parameter.type.should.have.one.of.the.following.values..NONE</th><th scope=col>GEOMETRIC</th><th scope=col>ARITHMETIC</th><th scope=col>SUM</th><th scope=col>MEDIAN</th><th scope=col>MAX</th><th scope=col>MIN</th><th scope=col>AVAILABILITY</th><th scope=col>CIRCULAR</th></tr></thead>\n",
       "<tbody>\n",
       "</tbody>\n",
       "</table>\n"
      ],
      "text/latex": [
       "\\begin{tabular}{r|lllllllll}\n",
       " Parameter.type.should.have.one.of.the.following.values..NONE & GEOMETRIC & ARITHMETIC & SUM & MEDIAN & MAX & MIN & AVAILABILITY & CIRCULAR\\\\\n",
       "\\hline\n",
       "\\end{tabular}\n"
      ],
      "text/markdown": [
       "\n",
       "| Parameter.type.should.have.one.of.the.following.values..NONE | GEOMETRIC | ARITHMETIC | SUM | MEDIAN | MAX | MIN | AVAILABILITY | CIRCULAR |\n",
       "|---|---|---|---|---|---|---|---|---|\n",
       "\n"
      ],
      "text/plain": [
       "     Parameter.type.should.have.one.of.the.following.values..NONE GEOMETRIC\n",
       "     ARITHMETIC SUM MEDIAN MAX MIN AVAILABILITY CIRCULAR"
      ]
     },
     "metadata": {},
     "output_type": "display_data"
    },
    {
     "data": {
      "text/html": [
       "<table>\n",
       "<thead><tr><th scope=col>Parameter.type.should.have.one.of.the.following.values..NONE</th><th scope=col>GEOMETRIC</th><th scope=col>ARITHMETIC</th><th scope=col>SUM</th><th scope=col>MEDIAN</th><th scope=col>MAX</th><th scope=col>MIN</th><th scope=col>AVAILABILITY</th><th scope=col>CIRCULAR</th></tr></thead>\n",
       "<tbody>\n",
       "</tbody>\n",
       "</table>\n"
      ],
      "text/latex": [
       "\\begin{tabular}{r|lllllllll}\n",
       " Parameter.type.should.have.one.of.the.following.values..NONE & GEOMETRIC & ARITHMETIC & SUM & MEDIAN & MAX & MIN & AVAILABILITY & CIRCULAR\\\\\n",
       "\\hline\n",
       "\\end{tabular}\n"
      ],
      "text/markdown": [
       "\n",
       "| Parameter.type.should.have.one.of.the.following.values..NONE | GEOMETRIC | ARITHMETIC | SUM | MEDIAN | MAX | MIN | AVAILABILITY | CIRCULAR |\n",
       "|---|---|---|---|---|---|---|---|---|\n",
       "\n"
      ],
      "text/plain": [
       "     Parameter.type.should.have.one.of.the.following.values..NONE GEOMETRIC\n",
       "     ARITHMETIC SUM MEDIAN MAX MIN AVAILABILITY CIRCULAR"
      ]
     },
     "metadata": {},
     "output_type": "display_data"
    },
    {
     "data": {
      "text/html": [
       "<table>\n",
       "<thead><tr><th scope=col>Parameter.type.should.have.one.of.the.following.values..NONE</th><th scope=col>GEOMETRIC</th><th scope=col>ARITHMETIC</th><th scope=col>SUM</th><th scope=col>MEDIAN</th><th scope=col>MAX</th><th scope=col>MIN</th><th scope=col>AVAILABILITY</th><th scope=col>CIRCULAR</th></tr></thead>\n",
       "<tbody>\n",
       "</tbody>\n",
       "</table>\n"
      ],
      "text/latex": [
       "\\begin{tabular}{r|lllllllll}\n",
       " Parameter.type.should.have.one.of.the.following.values..NONE & GEOMETRIC & ARITHMETIC & SUM & MEDIAN & MAX & MIN & AVAILABILITY & CIRCULAR\\\\\n",
       "\\hline\n",
       "\\end{tabular}\n"
      ],
      "text/markdown": [
       "\n",
       "| Parameter.type.should.have.one.of.the.following.values..NONE | GEOMETRIC | ARITHMETIC | SUM | MEDIAN | MAX | MIN | AVAILABILITY | CIRCULAR |\n",
       "|---|---|---|---|---|---|---|---|---|\n",
       "\n"
      ],
      "text/plain": [
       "     Parameter.type.should.have.one.of.the.following.values..NONE GEOMETRIC\n",
       "     ARITHMETIC SUM MEDIAN MAX MIN AVAILABILITY CIRCULAR"
      ]
     },
     "metadata": {},
     "output_type": "display_data"
    }
   ],
   "source": [
    "data<-read.csv(urlstring)\n",
    "\n",
    "data2<-read.csv(urlstring2)\n",
    "\n",
    "class(data)\n",
    "data\n",
    "data2\n",
    "data"
   ]
  },
  {
   "cell_type": "markdown",
   "metadata": {},
   "source": [
    "\n",
    "Convert datetime columns to more convenient data type:\n"
   ]
  },
  {
   "cell_type": "code",
   "execution_count": null,
   "metadata": {},
   "outputs": [],
   "source": [
    "data$datetim<-with(data,ISOdatetime(Year,Month,Day,Hour,Minute,Second))\n",
    "\n",
    "data$datetim\n",
    "\n",
    "data$datetim+86400"
   ]
  },
  {
   "cell_type": "markdown",
   "metadata": {},
   "source": [
    "API makes your life easier when doing dynamic data retrievals within data processing/analysis scripts.\n",
    "\n",
    "Construct times in POSIX time (seconds):"
   ]
  },
  {
   "cell_type": "code",
   "execution_count": null,
   "metadata": {},
   "outputs": [],
   "source": [
    "time2<-Sys.time()\n",
    "format(time2,\"%Y-%m-%d %H:%M:%S\")\n",
    "\n",
    "time2<-as.POSIXct(\"2018-10-29 12:00:00\")\n",
    "format(time2,\"%Y-%m-%d %H:%M:%S\")\n",
    "\n",
    "time1<-time2-3600\n",
    "format(time1,\"%Y-%m-%d %H:%M:%S\")"
   ]
  },
  {
   "cell_type": "markdown",
   "metadata": {},
   "source": [
    "Paste the times into API call for retrieving piece of data collected 24 h ago: "
   ]
  },
  {
   "cell_type": "code",
   "execution_count": null,
   "metadata": {},
   "outputs": [],
   "source": [
    "time2<-Sys.time()-86400\n",
    "timestr2<-format(time2,\"%Y-%m-%d %H:%M:%S\")\n",
    "time1<-time2-3600\n",
    "timestr1<-format(time1,\"%Y-%m-%d %H:%M:%S\")\n",
    "\n",
    "urlstring<-paste(\"https://avaa.tdata.fi/smear-services/smeardata.jsp?variables=T168,T672&table=HYY_META&from=\",\n",
    "    timestr1,\"&to=\",timestr2,\n",
    "    \"&quality=ANY&averaging=30MIN&type=ARITHMETIC\",sep=\"\")\n",
    "\n",
    "urlstring\n",
    "\n",
    "data<-read.csv(urlstring)\n",
    "\n",
    "head(data,1)\n",
    "tail(data,1)\n"
   ]
  },
  {
   "cell_type": "markdown",
   "metadata": {},
   "source": [
    "\n",
    "Below simple function for constructing API call from given parameters and downloading data.\n",
    "Named parameters are used so the user can give table and variables separately or use table.variable notation, give parameters in any order and skip irrelevant parameters.\n",
    "The function employs read.csv which ignores any http return codes or error messages. \n",
    "Therefore, additional parsing of returned data frame is needed. \n",
    "\n",
    "Different types of error affect the returned data in different ways. Be careful and take note of the column names of the returned data frame!\n"
   ]
  },
  {
   "cell_type": "code",
   "execution_count": null,
   "metadata": {},
   "outputs": [],
   "source": [
    "\n",
    "getSmearData<-function(time1,time2,...,dbtable=\"\",dbvariables=list(),dbtablevariables=list(),\n",
    "  quality=\"ANY\",averaging=\"NONE\",avgtype=\"NONE\") {\n",
    "\n",
    "# Simple function for retrieving data from SMEAR database\n",
    "# No input check, error handling etc.\n",
    "# time1 and time2 are start and end times as POSIX time.\n",
    "# Downloaded variables are given as list of table.variable strings (parameter \"dbtablevariables\").\n",
    "# or giving table (string \"dbtable\") and variables (list \"dbvariables\") separately.\n",
    "# Results of the query are returned as data frame (also in case of error).\n",
    "\n",
    "timestr1=as.character(time1,\"%Y-%m-%d %H:%M:%S\")\n",
    "timestr2=as.character(time2,\"%Y-%m-%d %H:%M:%S\")\n",
    "\n",
    "if(length(dbtablevariables)<1) {\n",
    "  urlstring<-paste(\"https://avaa.tdata.fi/smear-services/smeardata.jsp?\",\n",
    "    \"variables=\",paste(dbvariables,collapse=\",\"),\n",
    "    \"&table=\",dbtable,\n",
    "    \"&from=\",timestr1,\n",
    "    \"&to=\",timestr2,\n",
    "    \"&quality=\",quality,\"&averaging=\",averaging,\"&type=\",avgtype,sep=\"\")\n",
    "}\n",
    "else {\n",
    "  urlstring<-paste(\"https://avaa.tdata.fi/smear-services/smeardata.jsp?\",\n",
    "    \"tablevariables=\",paste(dbtablevariables,collapse=\",\"),\n",
    "    \"&from=\",timestr1,\n",
    "    \"&to=\",timestr2,\n",
    "    \"&quality=\",quality,\"&averaging=\",averaging,\"&type=\",avgtype,sep=\"\")\n",
    "}\n",
    "    \n",
    "writeLines(urlstring)\n",
    "    \n",
    "return(read.csv(urlstring))\n",
    "}\n"
   ]
  },
  {
   "cell_type": "markdown",
   "metadata": {},
   "source": [
    "Two examples of using the function:"
   ]
  },
  {
   "cell_type": "code",
   "execution_count": null,
   "metadata": {},
   "outputs": [],
   "source": [
    "\n",
    "time2<-as.POSIXct(\"2018-10-27 12:00:00\")\n",
    "time1<-time2-86400\n",
    "tablename<-\"HYY_META\"\n",
    "variables_list<-c(\"Pamb336\",\"Tmm672\")\n",
    "avg_time=\"60MIN\"\n",
    "avg_type=\"Arithmetic\"\n",
    "\n",
    "data1<-getSmearData(time1,time2,dbtable=tablename,dbvariables=variables_list,\n",
    "    averaging=avg_time,avgtype=avg_type)\n",
    "\n",
    "head(data1)\n",
    "\n",
    "time1<-Sys.Date()\n",
    "time2<-time1+3600\n",
    "tablevariables_list=c(\"HYY_META.Pamb336\")\n",
    "\n",
    "data2<-getSmearData(time1,time2,dbtablevariables=tablevariables_list)\n",
    "\n",
    "head(data2)"
   ]
  },
  {
   "cell_type": "markdown",
   "metadata": {},
   "source": [
    "\n",
    "SmartSMEAR API gives http return codes and in most cases also meaningful error messages. Read.csv cannot handle the http codes and also tries to convert the error messages to data frame. Below some examples.\n",
    "\n",
    "Some dedicated http libraries, for instance RCurl, can handle error messages better. \n"
   ]
  },
  {
   "cell_type": "code",
   "execution_count": null,
   "metadata": {
    "scrolled": false
   },
   "outputs": [],
   "source": [
    "\n",
    "time2<-Sys.time()-86400\n",
    "time1<-time2-180\n",
    "\n",
    "writeLines(\"Error 1:\")\n",
    "data<-getSmearData(time1,time2,dbtable=\"HYY_META\",dbvariables=c(\"xxxx\"))\n",
    "if(names(data)[1]!=\"Year\" | dim(data)[1]<1) {\n",
    "  print(data)\n",
    "}\n",
    "\n",
    "writeLines(\"Error 2:\")\n",
    "data<-getSmearData(time1,time2,dbtable=\"HYY_XXXX\",dbvariables=c(\"Glob\"))\n",
    "if(names(data)[1]!=\"Year\" | dim(data)[1]<1) {\n",
    "  print(data)\n",
    "}\n"
   ]
  },
  {
   "cell_type": "markdown",
   "metadata": {},
   "source": [
    "Specific notes for AVAA API:\n",
    "\n",
    "When using tablevariables parameter, if any variable does not exist in given table, no data from that table are returned."
   ]
  },
  {
   "cell_type": "code",
   "execution_count": null,
   "metadata": {},
   "outputs": [],
   "source": [
    "\n",
    "time2<-Sys.time()-86400\n",
    "time1<-time2-180\n",
    "\n",
    "# All variables exist\n",
    "data<-getSmearData(time1,time2,dbtablevariables=c(\"HYY_META.Glob\",\"HYY_META.Glob67\",\"SII1_META.Glob\"))\n",
    "head(data)\n",
    "\n",
    "# Glob127 does not exist in HYY_META, only data from SII1_META are returned\n",
    "data<-getSmearData(time1,time2,dbtablevariables=c(\"HYY_META.Glob\",\"HYY_META.Glob127\",\"SII1_META.Glob\"))\n",
    "data\n",
    "\n"
   ]
  },
  {
   "cell_type": "markdown",
   "metadata": {},
   "source": [
    "Specific notes for AVAA API:\n",
    "\n",
    "Sometimes there are missing rows in the database, align the rows with merge.\n",
    "\n",
    "Example: Hyytiälä and Siikaneva 1 meteo data in 2004/2005"
   ]
  },
  {
   "cell_type": "code",
   "execution_count": null,
   "metadata": {},
   "outputs": [],
   "source": [
    "urlstring<-\"https://avaa.tdata.fi/smear-services/smeardata.jsp?variables=T168&table=HYY_META\n",
    "&from=2004-12-31 23:00:00&to=2005-01-01 01:00:00&quality=ANY&averaging=30min&type=arithmetic\"\n",
    "\n",
    "urlstring2<-\"https://avaa.tdata.fi/smear-services/smeardata.jsp?variables=T_a&table=SII1_META\n",
    "&from=2004-12-31 23:00:00&to=2005-01-01 01:00:00&quality=ANY&averaging=30min&type=arithmetic\"\n",
    "\n",
    "data<-read.csv(urlstring)\n",
    "data\n",
    "\n",
    "data2<-read.csv(urlstring2)\n",
    "data2\n",
    "\n",
    "merge(data,data2,all=TRUE)"
   ]
  }
 ],
 "metadata": {
  "kernelspec": {
   "display_name": "R",
   "language": "R",
   "name": "ir"
  },
  "language_info": {
   "codemirror_mode": "r",
   "file_extension": ".r",
   "mimetype": "text/x-r-source",
   "name": "R",
   "pygments_lexer": "r",
   "version": "3.6.1"
  }
 },
 "nbformat": 4,
 "nbformat_minor": 2
}
