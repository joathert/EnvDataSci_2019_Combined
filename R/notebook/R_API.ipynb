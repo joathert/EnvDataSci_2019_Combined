{
 "cells": [
  {
   "cell_type": "markdown",
   "metadata": {},
   "source": [
    "Example SmartSMEAR API calls, see https://avaa.tdata.fi/web/smart/smear/api"
   ]
  },
  {
   "cell_type": "code",
   "execution_count": 1,
   "metadata": {
    "scrolled": true
   },
   "outputs": [],
   "source": [
    "urlstring<-\"https://avaa.tdata.fi/smear-services/smeardata.jsp?variables=Pamb0,UV_B&table=HYY_META&from=2016-04-11%2000:00:00&to=2016-04-11%2000:10:00&quality=ANY&averaging=NONE&type=NONE\"\n",
    "\n",
    "urlstring2<-\"https://avaa.tdata.fi/smear-services/smeardata.jsp?variables=Pamb0,UV_B&table=HYY_META&from=2016-04-11%2000:11:00&to=2016-04-11%2000:20:00&quality=ANY&averaging=NONE&type=NONE\"\n",
    "\n",
    "\n"
   ]
  },
  {
   "cell_type": "markdown",
   "metadata": {},
   "source": [
    "\n",
    "The most simple way for retrieving data via SmartSMEAR API is using read.csv which converts the data stream into data frame. It works in base R without additional libraries:\n"
   ]
  },
  {
   "cell_type": "code",
   "execution_count": 2,
   "metadata": {
    "scrolled": true
   },
   "outputs": [
    {
     "data": {
      "text/html": [
       "'data.frame'"
      ],
      "text/latex": [
       "'data.frame'"
      ],
      "text/markdown": [
       "'data.frame'"
      ],
      "text/plain": [
       "[1] \"data.frame\""
      ]
     },
     "metadata": {},
     "output_type": "display_data"
    },
    {
     "data": {
      "text/html": [
       "<table>\n",
       "<thead><tr><th scope=col>Year</th><th scope=col>Month</th><th scope=col>Day</th><th scope=col>Hour</th><th scope=col>Minute</th><th scope=col>Second</th><th scope=col>HYY_META.Pamb0</th><th scope=col>HYY_META.UV_B</th></tr></thead>\n",
       "<tbody>\n",
       "\t<tr><td>2016   </td><td>4      </td><td>11     </td><td>0      </td><td>0      </td><td>0      </td><td>1001.94</td><td>-4e-04 </td></tr>\n",
       "\t<tr><td>2016   </td><td>4      </td><td>11     </td><td>0      </td><td>1      </td><td>0      </td><td>1001.95</td><td>-4e-04 </td></tr>\n",
       "\t<tr><td>2016   </td><td>4      </td><td>11     </td><td>0      </td><td>2      </td><td>0      </td><td>1002.02</td><td>-4e-04 </td></tr>\n",
       "\t<tr><td>2016   </td><td>4      </td><td>11     </td><td>0      </td><td>3      </td><td>0      </td><td>1002.05</td><td>-4e-04 </td></tr>\n",
       "\t<tr><td>2016   </td><td>4      </td><td>11     </td><td>0      </td><td>4      </td><td>0      </td><td>1002.04</td><td> 4e-04 </td></tr>\n",
       "\t<tr><td>2016   </td><td>4      </td><td>11     </td><td>0      </td><td>5      </td><td>0      </td><td>1002.15</td><td> 4e-04 </td></tr>\n",
       "\t<tr><td>2016   </td><td>4      </td><td>11     </td><td>0      </td><td>6      </td><td>0      </td><td>1002.05</td><td> 4e-04 </td></tr>\n",
       "\t<tr><td>2016   </td><td>4      </td><td>11     </td><td>0      </td><td>7      </td><td>0      </td><td>1002.07</td><td> 4e-04 </td></tr>\n",
       "\t<tr><td>2016   </td><td>4      </td><td>11     </td><td>0      </td><td>8      </td><td>0      </td><td>1002.12</td><td> 4e-04 </td></tr>\n",
       "\t<tr><td>2016   </td><td>4      </td><td>11     </td><td>0      </td><td>9      </td><td>0      </td><td>1002.18</td><td> 4e-04 </td></tr>\n",
       "</tbody>\n",
       "</table>\n"
      ],
      "text/latex": [
       "\\begin{tabular}{r|llllllll}\n",
       " Year & Month & Day & Hour & Minute & Second & HYY\\_META.Pamb0 & HYY\\_META.UV\\_B\\\\\n",
       "\\hline\n",
       "\t 2016    & 4       & 11      & 0       & 0       & 0       & 1001.94 & -4e-04 \\\\\n",
       "\t 2016    & 4       & 11      & 0       & 1       & 0       & 1001.95 & -4e-04 \\\\\n",
       "\t 2016    & 4       & 11      & 0       & 2       & 0       & 1002.02 & -4e-04 \\\\\n",
       "\t 2016    & 4       & 11      & 0       & 3       & 0       & 1002.05 & -4e-04 \\\\\n",
       "\t 2016    & 4       & 11      & 0       & 4       & 0       & 1002.04 &  4e-04 \\\\\n",
       "\t 2016    & 4       & 11      & 0       & 5       & 0       & 1002.15 &  4e-04 \\\\\n",
       "\t 2016    & 4       & 11      & 0       & 6       & 0       & 1002.05 &  4e-04 \\\\\n",
       "\t 2016    & 4       & 11      & 0       & 7       & 0       & 1002.07 &  4e-04 \\\\\n",
       "\t 2016    & 4       & 11      & 0       & 8       & 0       & 1002.12 &  4e-04 \\\\\n",
       "\t 2016    & 4       & 11      & 0       & 9       & 0       & 1002.18 &  4e-04 \\\\\n",
       "\\end{tabular}\n"
      ],
      "text/markdown": [
       "\n",
       "| Year | Month | Day | Hour | Minute | Second | HYY_META.Pamb0 | HYY_META.UV_B |\n",
       "|---|---|---|---|---|---|---|---|\n",
       "| 2016    | 4       | 11      | 0       | 0       | 0       | 1001.94 | -4e-04  |\n",
       "| 2016    | 4       | 11      | 0       | 1       | 0       | 1001.95 | -4e-04  |\n",
       "| 2016    | 4       | 11      | 0       | 2       | 0       | 1002.02 | -4e-04  |\n",
       "| 2016    | 4       | 11      | 0       | 3       | 0       | 1002.05 | -4e-04  |\n",
       "| 2016    | 4       | 11      | 0       | 4       | 0       | 1002.04 |  4e-04  |\n",
       "| 2016    | 4       | 11      | 0       | 5       | 0       | 1002.15 |  4e-04  |\n",
       "| 2016    | 4       | 11      | 0       | 6       | 0       | 1002.05 |  4e-04  |\n",
       "| 2016    | 4       | 11      | 0       | 7       | 0       | 1002.07 |  4e-04  |\n",
       "| 2016    | 4       | 11      | 0       | 8       | 0       | 1002.12 |  4e-04  |\n",
       "| 2016    | 4       | 11      | 0       | 9       | 0       | 1002.18 |  4e-04  |\n",
       "\n"
      ],
      "text/plain": [
       "   Year Month Day Hour Minute Second HYY_META.Pamb0 HYY_META.UV_B\n",
       "1  2016 4     11  0    0      0      1001.94        -4e-04       \n",
       "2  2016 4     11  0    1      0      1001.95        -4e-04       \n",
       "3  2016 4     11  0    2      0      1002.02        -4e-04       \n",
       "4  2016 4     11  0    3      0      1002.05        -4e-04       \n",
       "5  2016 4     11  0    4      0      1002.04         4e-04       \n",
       "6  2016 4     11  0    5      0      1002.15         4e-04       \n",
       "7  2016 4     11  0    6      0      1002.05         4e-04       \n",
       "8  2016 4     11  0    7      0      1002.07         4e-04       \n",
       "9  2016 4     11  0    8      0      1002.12         4e-04       \n",
       "10 2016 4     11  0    9      0      1002.18         4e-04       "
      ]
     },
     "metadata": {},
     "output_type": "display_data"
    },
    {
     "data": {
      "text/html": [
       "<table>\n",
       "<thead><tr><th scope=col>Year</th><th scope=col>Month</th><th scope=col>Day</th><th scope=col>Hour</th><th scope=col>Minute</th><th scope=col>Second</th><th scope=col>HYY_META.Pamb0</th><th scope=col>HYY_META.UV_B</th></tr></thead>\n",
       "<tbody>\n",
       "\t<tr><td>2016   </td><td>4      </td><td>11     </td><td>0      </td><td>11     </td><td>0      </td><td>1002.26</td><td>-4e-04 </td></tr>\n",
       "\t<tr><td>2016   </td><td>4      </td><td>11     </td><td>0      </td><td>12     </td><td>0      </td><td>1002.22</td><td>-8e-04 </td></tr>\n",
       "\t<tr><td>2016   </td><td>4      </td><td>11     </td><td>0      </td><td>13     </td><td>0      </td><td>1002.07</td><td> 1e-04 </td></tr>\n",
       "\t<tr><td>2016   </td><td>4      </td><td>11     </td><td>0      </td><td>14     </td><td>0      </td><td>1002.15</td><td> 1e-04 </td></tr>\n",
       "\t<tr><td>2016   </td><td>4      </td><td>11     </td><td>0      </td><td>15     </td><td>0      </td><td>1002.21</td><td> 1e-04 </td></tr>\n",
       "\t<tr><td>2016   </td><td>4      </td><td>11     </td><td>0      </td><td>16     </td><td>0      </td><td>1002.13</td><td>-4e-04 </td></tr>\n",
       "\t<tr><td>2016   </td><td>4      </td><td>11     </td><td>0      </td><td>17     </td><td>0      </td><td>1002.12</td><td>-4e-04 </td></tr>\n",
       "\t<tr><td>2016   </td><td>4      </td><td>11     </td><td>0      </td><td>18     </td><td>0      </td><td>1002.18</td><td> 4e-04 </td></tr>\n",
       "\t<tr><td>2016   </td><td>4      </td><td>11     </td><td>0      </td><td>19     </td><td>0      </td><td>1002.12</td><td> 1e-04 </td></tr>\n",
       "</tbody>\n",
       "</table>\n"
      ],
      "text/latex": [
       "\\begin{tabular}{r|llllllll}\n",
       " Year & Month & Day & Hour & Minute & Second & HYY\\_META.Pamb0 & HYY\\_META.UV\\_B\\\\\n",
       "\\hline\n",
       "\t 2016    & 4       & 11      & 0       & 11      & 0       & 1002.26 & -4e-04 \\\\\n",
       "\t 2016    & 4       & 11      & 0       & 12      & 0       & 1002.22 & -8e-04 \\\\\n",
       "\t 2016    & 4       & 11      & 0       & 13      & 0       & 1002.07 &  1e-04 \\\\\n",
       "\t 2016    & 4       & 11      & 0       & 14      & 0       & 1002.15 &  1e-04 \\\\\n",
       "\t 2016    & 4       & 11      & 0       & 15      & 0       & 1002.21 &  1e-04 \\\\\n",
       "\t 2016    & 4       & 11      & 0       & 16      & 0       & 1002.13 & -4e-04 \\\\\n",
       "\t 2016    & 4       & 11      & 0       & 17      & 0       & 1002.12 & -4e-04 \\\\\n",
       "\t 2016    & 4       & 11      & 0       & 18      & 0       & 1002.18 &  4e-04 \\\\\n",
       "\t 2016    & 4       & 11      & 0       & 19      & 0       & 1002.12 &  1e-04 \\\\\n",
       "\\end{tabular}\n"
      ],
      "text/markdown": [
       "\n",
       "| Year | Month | Day | Hour | Minute | Second | HYY_META.Pamb0 | HYY_META.UV_B |\n",
       "|---|---|---|---|---|---|---|---|\n",
       "| 2016    | 4       | 11      | 0       | 11      | 0       | 1002.26 | -4e-04  |\n",
       "| 2016    | 4       | 11      | 0       | 12      | 0       | 1002.22 | -8e-04  |\n",
       "| 2016    | 4       | 11      | 0       | 13      | 0       | 1002.07 |  1e-04  |\n",
       "| 2016    | 4       | 11      | 0       | 14      | 0       | 1002.15 |  1e-04  |\n",
       "| 2016    | 4       | 11      | 0       | 15      | 0       | 1002.21 |  1e-04  |\n",
       "| 2016    | 4       | 11      | 0       | 16      | 0       | 1002.13 | -4e-04  |\n",
       "| 2016    | 4       | 11      | 0       | 17      | 0       | 1002.12 | -4e-04  |\n",
       "| 2016    | 4       | 11      | 0       | 18      | 0       | 1002.18 |  4e-04  |\n",
       "| 2016    | 4       | 11      | 0       | 19      | 0       | 1002.12 |  1e-04  |\n",
       "\n"
      ],
      "text/plain": [
       "  Year Month Day Hour Minute Second HYY_META.Pamb0 HYY_META.UV_B\n",
       "1 2016 4     11  0    11     0      1002.26        -4e-04       \n",
       "2 2016 4     11  0    12     0      1002.22        -8e-04       \n",
       "3 2016 4     11  0    13     0      1002.07         1e-04       \n",
       "4 2016 4     11  0    14     0      1002.15         1e-04       \n",
       "5 2016 4     11  0    15     0      1002.21         1e-04       \n",
       "6 2016 4     11  0    16     0      1002.13        -4e-04       \n",
       "7 2016 4     11  0    17     0      1002.12        -4e-04       \n",
       "8 2016 4     11  0    18     0      1002.18         4e-04       \n",
       "9 2016 4     11  0    19     0      1002.12         1e-04       "
      ]
     },
     "metadata": {},
     "output_type": "display_data"
    },
    {
     "data": {
      "text/html": [
       "<table>\n",
       "<thead><tr><th scope=col>Year</th><th scope=col>Month</th><th scope=col>Day</th><th scope=col>Hour</th><th scope=col>Minute</th><th scope=col>Second</th><th scope=col>HYY_META.Pamb0</th><th scope=col>HYY_META.UV_B</th></tr></thead>\n",
       "<tbody>\n",
       "\t<tr><td>2016   </td><td>4      </td><td>11     </td><td>0      </td><td>0      </td><td>0      </td><td>1001.94</td><td>-4e-04 </td></tr>\n",
       "\t<tr><td>2016   </td><td>4      </td><td>11     </td><td>0      </td><td>1      </td><td>0      </td><td>1001.95</td><td>-4e-04 </td></tr>\n",
       "\t<tr><td>2016   </td><td>4      </td><td>11     </td><td>0      </td><td>2      </td><td>0      </td><td>1002.02</td><td>-4e-04 </td></tr>\n",
       "\t<tr><td>2016   </td><td>4      </td><td>11     </td><td>0      </td><td>3      </td><td>0      </td><td>1002.05</td><td>-4e-04 </td></tr>\n",
       "\t<tr><td>2016   </td><td>4      </td><td>11     </td><td>0      </td><td>4      </td><td>0      </td><td>1002.04</td><td> 4e-04 </td></tr>\n",
       "\t<tr><td>2016   </td><td>4      </td><td>11     </td><td>0      </td><td>5      </td><td>0      </td><td>1002.15</td><td> 4e-04 </td></tr>\n",
       "\t<tr><td>2016   </td><td>4      </td><td>11     </td><td>0      </td><td>6      </td><td>0      </td><td>1002.05</td><td> 4e-04 </td></tr>\n",
       "\t<tr><td>2016   </td><td>4      </td><td>11     </td><td>0      </td><td>7      </td><td>0      </td><td>1002.07</td><td> 4e-04 </td></tr>\n",
       "\t<tr><td>2016   </td><td>4      </td><td>11     </td><td>0      </td><td>8      </td><td>0      </td><td>1002.12</td><td> 4e-04 </td></tr>\n",
       "\t<tr><td>2016   </td><td>4      </td><td>11     </td><td>0      </td><td>9      </td><td>0      </td><td>1002.18</td><td> 4e-04 </td></tr>\n",
       "</tbody>\n",
       "</table>\n"
      ],
      "text/latex": [
       "\\begin{tabular}{r|llllllll}\n",
       " Year & Month & Day & Hour & Minute & Second & HYY\\_META.Pamb0 & HYY\\_META.UV\\_B\\\\\n",
       "\\hline\n",
       "\t 2016    & 4       & 11      & 0       & 0       & 0       & 1001.94 & -4e-04 \\\\\n",
       "\t 2016    & 4       & 11      & 0       & 1       & 0       & 1001.95 & -4e-04 \\\\\n",
       "\t 2016    & 4       & 11      & 0       & 2       & 0       & 1002.02 & -4e-04 \\\\\n",
       "\t 2016    & 4       & 11      & 0       & 3       & 0       & 1002.05 & -4e-04 \\\\\n",
       "\t 2016    & 4       & 11      & 0       & 4       & 0       & 1002.04 &  4e-04 \\\\\n",
       "\t 2016    & 4       & 11      & 0       & 5       & 0       & 1002.15 &  4e-04 \\\\\n",
       "\t 2016    & 4       & 11      & 0       & 6       & 0       & 1002.05 &  4e-04 \\\\\n",
       "\t 2016    & 4       & 11      & 0       & 7       & 0       & 1002.07 &  4e-04 \\\\\n",
       "\t 2016    & 4       & 11      & 0       & 8       & 0       & 1002.12 &  4e-04 \\\\\n",
       "\t 2016    & 4       & 11      & 0       & 9       & 0       & 1002.18 &  4e-04 \\\\\n",
       "\\end{tabular}\n"
      ],
      "text/markdown": [
       "\n",
       "| Year | Month | Day | Hour | Minute | Second | HYY_META.Pamb0 | HYY_META.UV_B |\n",
       "|---|---|---|---|---|---|---|---|\n",
       "| 2016    | 4       | 11      | 0       | 0       | 0       | 1001.94 | -4e-04  |\n",
       "| 2016    | 4       | 11      | 0       | 1       | 0       | 1001.95 | -4e-04  |\n",
       "| 2016    | 4       | 11      | 0       | 2       | 0       | 1002.02 | -4e-04  |\n",
       "| 2016    | 4       | 11      | 0       | 3       | 0       | 1002.05 | -4e-04  |\n",
       "| 2016    | 4       | 11      | 0       | 4       | 0       | 1002.04 |  4e-04  |\n",
       "| 2016    | 4       | 11      | 0       | 5       | 0       | 1002.15 |  4e-04  |\n",
       "| 2016    | 4       | 11      | 0       | 6       | 0       | 1002.05 |  4e-04  |\n",
       "| 2016    | 4       | 11      | 0       | 7       | 0       | 1002.07 |  4e-04  |\n",
       "| 2016    | 4       | 11      | 0       | 8       | 0       | 1002.12 |  4e-04  |\n",
       "| 2016    | 4       | 11      | 0       | 9       | 0       | 1002.18 |  4e-04  |\n",
       "\n"
      ],
      "text/plain": [
       "   Year Month Day Hour Minute Second HYY_META.Pamb0 HYY_META.UV_B\n",
       "1  2016 4     11  0    0      0      1001.94        -4e-04       \n",
       "2  2016 4     11  0    1      0      1001.95        -4e-04       \n",
       "3  2016 4     11  0    2      0      1002.02        -4e-04       \n",
       "4  2016 4     11  0    3      0      1002.05        -4e-04       \n",
       "5  2016 4     11  0    4      0      1002.04         4e-04       \n",
       "6  2016 4     11  0    5      0      1002.15         4e-04       \n",
       "7  2016 4     11  0    6      0      1002.05         4e-04       \n",
       "8  2016 4     11  0    7      0      1002.07         4e-04       \n",
       "9  2016 4     11  0    8      0      1002.12         4e-04       \n",
       "10 2016 4     11  0    9      0      1002.18         4e-04       "
      ]
     },
     "metadata": {},
     "output_type": "display_data"
    }
   ],
   "source": [
    "data<-read.csv(urlstring)\n",
    "\n",
    "data2<-read.csv(urlstring2)\n",
    "\n",
    "class(data)\n",
    "data\n",
    "data2\n",
    "data"
   ]
  },
  {
   "cell_type": "markdown",
   "metadata": {},
   "source": [
    "\n",
    "Convert datetime columns to more convenient data type:\n"
   ]
  },
  {
   "cell_type": "code",
   "execution_count": 3,
   "metadata": {},
   "outputs": [
    {
     "data": {
      "text/plain": [
       " [1] \"2016-04-11 00:00:00 EEST\" \"2016-04-11 00:01:00 EEST\"\n",
       " [3] \"2016-04-11 00:02:00 EEST\" \"2016-04-11 00:03:00 EEST\"\n",
       " [5] \"2016-04-11 00:04:00 EEST\" \"2016-04-11 00:05:00 EEST\"\n",
       " [7] \"2016-04-11 00:06:00 EEST\" \"2016-04-11 00:07:00 EEST\"\n",
       " [9] \"2016-04-11 00:08:00 EEST\" \"2016-04-11 00:09:00 EEST\""
      ]
     },
     "metadata": {},
     "output_type": "display_data"
    },
    {
     "data": {
      "text/plain": [
       " [1] \"2016-04-12 00:00:00 EEST\" \"2016-04-12 00:01:00 EEST\"\n",
       " [3] \"2016-04-12 00:02:00 EEST\" \"2016-04-12 00:03:00 EEST\"\n",
       " [5] \"2016-04-12 00:04:00 EEST\" \"2016-04-12 00:05:00 EEST\"\n",
       " [7] \"2016-04-12 00:06:00 EEST\" \"2016-04-12 00:07:00 EEST\"\n",
       " [9] \"2016-04-12 00:08:00 EEST\" \"2016-04-12 00:09:00 EEST\""
      ]
     },
     "metadata": {},
     "output_type": "display_data"
    }
   ],
   "source": [
    "data$datetim<-with(data,ISOdatetime(Year,Month,Day,Hour,Minute,Second))\n",
    "\n",
    "data$datetim\n",
    "\n",
    "data$datetim+86400"
   ]
  },
  {
   "cell_type": "markdown",
   "metadata": {},
   "source": [
    "API makes your life easier when doing dynamic data retrievals within data processing/analysis scripts.\n",
    "\n",
    "Construct times in POSIX time (seconds):"
   ]
  },
  {
   "cell_type": "code",
   "execution_count": 4,
   "metadata": {},
   "outputs": [
    {
     "data": {
      "text/html": [
       "'2020-03-09 09:58:53'"
      ],
      "text/latex": [
       "'2020-03-09 09:58:53'"
      ],
      "text/markdown": [
       "'2020-03-09 09:58:53'"
      ],
      "text/plain": [
       "[1] \"2020-03-09 09:58:53\""
      ]
     },
     "metadata": {},
     "output_type": "display_data"
    },
    {
     "data": {
      "text/html": [
       "'2018-10-29 12:00:00'"
      ],
      "text/latex": [
       "'2018-10-29 12:00:00'"
      ],
      "text/markdown": [
       "'2018-10-29 12:00:00'"
      ],
      "text/plain": [
       "[1] \"2018-10-29 12:00:00\""
      ]
     },
     "metadata": {},
     "output_type": "display_data"
    },
    {
     "data": {
      "text/html": [
       "'2018-10-29 11:00:00'"
      ],
      "text/latex": [
       "'2018-10-29 11:00:00'"
      ],
      "text/markdown": [
       "'2018-10-29 11:00:00'"
      ],
      "text/plain": [
       "[1] \"2018-10-29 11:00:00\""
      ]
     },
     "metadata": {},
     "output_type": "display_data"
    }
   ],
   "source": [
    "time2<-Sys.time()\n",
    "format(time2,\"%Y-%m-%d %H:%M:%S\")\n",
    "\n",
    "time2<-as.POSIXct(\"2018-10-29 12:00:00\")\n",
    "format(time2,\"%Y-%m-%d %H:%M:%S\")\n",
    "\n",
    "time1<-time2-3600\n",
    "format(time1,\"%Y-%m-%d %H:%M:%S\")"
   ]
  },
  {
   "cell_type": "markdown",
   "metadata": {},
   "source": [
    "Paste the times into API call for retrieving piece of data collected 24 h ago: "
   ]
  },
  {
   "cell_type": "code",
   "execution_count": 8,
   "metadata": {},
   "outputs": [
    {
     "data": {
      "text/html": [
       "'https://avaa.tdata.fi/smear-services/smeardata.jsp?variables=T168,T672&amp;table=HYY_META&amp;from=2020-03-08%2009:07:27&amp;to=2020-03-08%2010:07:27&amp;quality=ANY&amp;averaging=30MIN&amp;type=ARITHMETIC'"
      ],
      "text/latex": [
       "'https://avaa.tdata.fi/smear-services/smeardata.jsp?variables=T168,T672\\&table=HYY\\_META\\&from=2020-03-08\\%2009:07:27\\&to=2020-03-08\\%2010:07:27\\&quality=ANY\\&averaging=30MIN\\&type=ARITHMETIC'"
      ],
      "text/markdown": [
       "'https://avaa.tdata.fi/smear-services/smeardata.jsp?variables=T168,T672&amp;table=HYY_META&amp;from=2020-03-08%2009:07:27&amp;to=2020-03-08%2010:07:27&amp;quality=ANY&amp;averaging=30MIN&amp;type=ARITHMETIC'"
      ],
      "text/plain": [
       "[1] \"https://avaa.tdata.fi/smear-services/smeardata.jsp?variables=T168,T672&table=HYY_META&from=2020-03-08%2009:07:27&to=2020-03-08%2010:07:27&quality=ANY&averaging=30MIN&type=ARITHMETIC\""
      ]
     },
     "metadata": {},
     "output_type": "display_data"
    },
    {
     "data": {
      "text/html": [
       "<table>\n",
       "<thead><tr><th scope=col>Year</th><th scope=col>Month</th><th scope=col>Day</th><th scope=col>Hour</th><th scope=col>Minute</th><th scope=col>Second</th><th scope=col>HYY_META.T168</th><th scope=col>HYY_META.T672</th></tr></thead>\n",
       "<tbody>\n",
       "\t<tr><td>2020     </td><td>3        </td><td>8        </td><td>9        </td><td>0        </td><td>0        </td><td>-2.329546</td><td>-3.139545</td></tr>\n",
       "</tbody>\n",
       "</table>\n"
      ],
      "text/latex": [
       "\\begin{tabular}{r|llllllll}\n",
       " Year & Month & Day & Hour & Minute & Second & HYY\\_META.T168 & HYY\\_META.T672\\\\\n",
       "\\hline\n",
       "\t 2020      & 3         & 8         & 9         & 0         & 0         & -2.329546 & -3.139545\\\\\n",
       "\\end{tabular}\n"
      ],
      "text/markdown": [
       "\n",
       "| Year | Month | Day | Hour | Minute | Second | HYY_META.T168 | HYY_META.T672 |\n",
       "|---|---|---|---|---|---|---|---|\n",
       "| 2020      | 3         | 8         | 9         | 0         | 0         | -2.329546 | -3.139545 |\n",
       "\n"
      ],
      "text/plain": [
       "  Year Month Day Hour Minute Second HYY_META.T168 HYY_META.T672\n",
       "1 2020 3     8   9    0      0      -2.329546     -3.139545    "
      ]
     },
     "metadata": {},
     "output_type": "display_data"
    },
    {
     "data": {
      "text/html": [
       "<table>\n",
       "<thead><tr><th></th><th scope=col>Year</th><th scope=col>Month</th><th scope=col>Day</th><th scope=col>Hour</th><th scope=col>Minute</th><th scope=col>Second</th><th scope=col>HYY_META.T168</th><th scope=col>HYY_META.T672</th></tr></thead>\n",
       "<tbody>\n",
       "\t<tr><th scope=row>3</th><td>2020    </td><td>3       </td><td>8       </td><td>10      </td><td>0       </td><td>0       </td><td>-1.05375</td><td>-2.09   </td></tr>\n",
       "</tbody>\n",
       "</table>\n"
      ],
      "text/latex": [
       "\\begin{tabular}{r|llllllll}\n",
       "  & Year & Month & Day & Hour & Minute & Second & HYY\\_META.T168 & HYY\\_META.T672\\\\\n",
       "\\hline\n",
       "\t3 & 2020     & 3        & 8        & 10       & 0        & 0        & -1.05375 & -2.09   \\\\\n",
       "\\end{tabular}\n"
      ],
      "text/markdown": [
       "\n",
       "| <!--/--> | Year | Month | Day | Hour | Minute | Second | HYY_META.T168 | HYY_META.T672 |\n",
       "|---|---|---|---|---|---|---|---|---|\n",
       "| 3 | 2020     | 3        | 8        | 10       | 0        | 0        | -1.05375 | -2.09    |\n",
       "\n"
      ],
      "text/plain": [
       "  Year Month Day Hour Minute Second HYY_META.T168 HYY_META.T672\n",
       "3 2020 3     8   10   0      0      -1.05375      -2.09        "
      ]
     },
     "metadata": {},
     "output_type": "display_data"
    }
   ],
   "source": [
    "time2<-Sys.time()-86400\n",
    "timestr2<-format(time2,\"%Y-%m-%d%%20%H:%M:%S\")\n",
    "time1<-time2-3600\n",
    "timestr1<-format(time1,\"%Y-%m-%d%%20%H:%M:%S\")\n",
    "\n",
    "urlstring<-paste(\"https://avaa.tdata.fi/smear-services/smeardata.jsp?variables=T168,T672&table=HYY_META&from=\",\n",
    "    timestr1,\"&to=\",timestr2,\n",
    "    \"&quality=ANY&averaging=30MIN&type=ARITHMETIC\",sep=\"\")\n",
    "\n",
    "urlstring\n",
    "\n",
    "data<-read.csv(urlstring)\n",
    "\n",
    "head(data,1)\n",
    "tail(data,1)\n"
   ]
  },
  {
   "cell_type": "markdown",
   "metadata": {},
   "source": [
    "\n",
    "Below simple function for constructing API call from given parameters and downloading data.\n",
    "Named parameters are used so the user can give table and variables separately or use table.variable notation, give parameters in any order and skip irrelevant parameters.\n",
    "The function employs read.csv which ignores any http return codes or error messages. \n",
    "Therefore, additional parsing of returned data frame is needed. \n",
    "\n",
    "Different types of error affect the returned data in different ways. Be careful and take note of the column names of the returned data frame!\n"
   ]
  },
  {
   "cell_type": "code",
   "execution_count": 9,
   "metadata": {},
   "outputs": [],
   "source": [
    "\n",
    "getSmearData<-function(time1,time2,...,dbtable=\"\",dbvariables=list(),dbtablevariables=list(),\n",
    "  quality=\"ANY\",averaging=\"NONE\",avgtype=\"NONE\") {\n",
    "\n",
    "# Simple function for retrieving data from SMEAR database\n",
    "# No input check, error handling etc.\n",
    "# time1 and time2 are start and end times as POSIX time.\n",
    "# Downloaded variables are given as list of table.variable strings (parameter \"dbtablevariables\").\n",
    "# or giving table (string \"dbtable\") and variables (list \"dbvariables\") separately.\n",
    "# Results of the query are returned as data frame (also in case of error).\n",
    "\n",
    "timestr1=as.character(time1,\"%Y-%m-%d%%20%H:%M:%S\")\n",
    "timestr2=as.character(time2,\"%Y-%m-%d%%20%H:%M:%S\")\n",
    "\n",
    "if(length(dbtablevariables)<1) {\n",
    "  urlstring<-paste(\"https://avaa.tdata.fi/smear-services/smeardata.jsp?\",\n",
    "    \"variables=\",paste(dbvariables,collapse=\",\"),\n",
    "    \"&table=\",dbtable,\n",
    "    \"&from=\",timestr1,\n",
    "    \"&to=\",timestr2,\n",
    "    \"&quality=\",quality,\"&averaging=\",averaging,\"&type=\",avgtype,sep=\"\")\n",
    "}\n",
    "else {\n",
    "  urlstring<-paste(\"https://avaa.tdata.fi/smear-services/smeardata.jsp?\",\n",
    "    \"tablevariables=\",paste(dbtablevariables,collapse=\",\"),\n",
    "    \"&from=\",timestr1,\n",
    "    \"&to=\",timestr2,\n",
    "    \"&quality=\",quality,\"&averaging=\",averaging,\"&type=\",avgtype,sep=\"\")\n",
    "}\n",
    "    \n",
    "writeLines(urlstring)\n",
    "    \n",
    "return(read.csv(urlstring))\n",
    "}\n"
   ]
  },
  {
   "cell_type": "markdown",
   "metadata": {},
   "source": [
    "Two examples of using the function:"
   ]
  },
  {
   "cell_type": "code",
   "execution_count": 10,
   "metadata": {},
   "outputs": [
    {
     "name": "stdout",
     "output_type": "stream",
     "text": [
      "https://avaa.tdata.fi/smear-services/smeardata.jsp?variables=Pamb336,Tmm672&table=HYY_META&from=2018-10-26%2012:00:00&to=2018-10-27%2012:00:00&quality=ANY&averaging=60MIN&type=Arithmetic\n"
     ]
    },
    {
     "data": {
      "text/html": [
       "<table>\n",
       "<thead><tr><th scope=col>Year</th><th scope=col>Month</th><th scope=col>Day</th><th scope=col>Hour</th><th scope=col>Minute</th><th scope=col>Second</th><th scope=col>HYY_META.Pamb336</th><th scope=col>HYY_META.Tmm672</th></tr></thead>\n",
       "<tbody>\n",
       "\t<tr><td>2018      </td><td>10        </td><td>26        </td><td>0         </td><td>0         </td><td>0         </td><td>NaN       </td><td>-0.4288333</td></tr>\n",
       "\t<tr><td>2018      </td><td>10        </td><td>26        </td><td>1         </td><td>0         </td><td>0         </td><td>NaN       </td><td>-0.5253333</td></tr>\n",
       "\t<tr><td>2018      </td><td>10        </td><td>26        </td><td>2         </td><td>0         </td><td>0         </td><td>NaN       </td><td>-0.6213334</td></tr>\n",
       "\t<tr><td>2018      </td><td>10        </td><td>26        </td><td>3         </td><td>0         </td><td>0         </td><td>NaN       </td><td>-0.7083333</td></tr>\n",
       "\t<tr><td>2018      </td><td>10        </td><td>26        </td><td>4         </td><td>0         </td><td>0         </td><td>NaN       </td><td>-0.8508334</td></tr>\n",
       "\t<tr><td>2018      </td><td>10        </td><td>26        </td><td>5         </td><td>0         </td><td>0         </td><td>NaN       </td><td>-0.9761667</td></tr>\n",
       "</tbody>\n",
       "</table>\n"
      ],
      "text/latex": [
       "\\begin{tabular}{r|llllllll}\n",
       " Year & Month & Day & Hour & Minute & Second & HYY\\_META.Pamb336 & HYY\\_META.Tmm672\\\\\n",
       "\\hline\n",
       "\t 2018       & 10         & 26         & 0          & 0          & 0          & NaN        & -0.4288333\\\\\n",
       "\t 2018       & 10         & 26         & 1          & 0          & 0          & NaN        & -0.5253333\\\\\n",
       "\t 2018       & 10         & 26         & 2          & 0          & 0          & NaN        & -0.6213334\\\\\n",
       "\t 2018       & 10         & 26         & 3          & 0          & 0          & NaN        & -0.7083333\\\\\n",
       "\t 2018       & 10         & 26         & 4          & 0          & 0          & NaN        & -0.8508334\\\\\n",
       "\t 2018       & 10         & 26         & 5          & 0          & 0          & NaN        & -0.9761667\\\\\n",
       "\\end{tabular}\n"
      ],
      "text/markdown": [
       "\n",
       "| Year | Month | Day | Hour | Minute | Second | HYY_META.Pamb336 | HYY_META.Tmm672 |\n",
       "|---|---|---|---|---|---|---|---|\n",
       "| 2018       | 10         | 26         | 0          | 0          | 0          | NaN        | -0.4288333 |\n",
       "| 2018       | 10         | 26         | 1          | 0          | 0          | NaN        | -0.5253333 |\n",
       "| 2018       | 10         | 26         | 2          | 0          | 0          | NaN        | -0.6213334 |\n",
       "| 2018       | 10         | 26         | 3          | 0          | 0          | NaN        | -0.7083333 |\n",
       "| 2018       | 10         | 26         | 4          | 0          | 0          | NaN        | -0.8508334 |\n",
       "| 2018       | 10         | 26         | 5          | 0          | 0          | NaN        | -0.9761667 |\n",
       "\n"
      ],
      "text/plain": [
       "  Year Month Day Hour Minute Second HYY_META.Pamb336 HYY_META.Tmm672\n",
       "1 2018 10    26  0    0      0      NaN              -0.4288333     \n",
       "2 2018 10    26  1    0      0      NaN              -0.5253333     \n",
       "3 2018 10    26  2    0      0      NaN              -0.6213334     \n",
       "4 2018 10    26  3    0      0      NaN              -0.7083333     \n",
       "5 2018 10    26  4    0      0      NaN              -0.8508334     \n",
       "6 2018 10    26  5    0      0      NaN              -0.9761667     "
      ]
     },
     "metadata": {},
     "output_type": "display_data"
    },
    {
     "name": "stdout",
     "output_type": "stream",
     "text": [
      "https://avaa.tdata.fi/smear-services/smeardata.jsp?tablevariables=HYY_META.Pamb336&from=2020-03-09%2000:00:00&to=2030-01-16%2000:00:00&quality=ANY&averaging=NONE&type=NONE\n"
     ]
    },
    {
     "data": {
      "text/html": [
       "<table>\n",
       "<thead><tr><th scope=col>Year</th><th scope=col>Month</th><th scope=col>Day</th><th scope=col>Hour</th><th scope=col>Minute</th><th scope=col>Second</th><th scope=col>HYY_META.Pamb336</th></tr></thead>\n",
       "<tbody>\n",
       "\t<tr><td>2020   </td><td>3      </td><td>9      </td><td>0      </td><td>0      </td><td>0      </td><td>980.640</td></tr>\n",
       "\t<tr><td>2020   </td><td>3      </td><td>9      </td><td>0      </td><td>1      </td><td>0      </td><td>980.665</td></tr>\n",
       "\t<tr><td>2020   </td><td>3      </td><td>9      </td><td>0      </td><td>2      </td><td>0      </td><td>980.670</td></tr>\n",
       "\t<tr><td>2020   </td><td>3      </td><td>9      </td><td>0      </td><td>3      </td><td>0      </td><td>980.680</td></tr>\n",
       "\t<tr><td>2020   </td><td>3      </td><td>9      </td><td>0      </td><td>4      </td><td>0      </td><td>980.660</td></tr>\n",
       "\t<tr><td>2020   </td><td>3      </td><td>9      </td><td>0      </td><td>5      </td><td>0      </td><td>980.605</td></tr>\n",
       "</tbody>\n",
       "</table>\n"
      ],
      "text/latex": [
       "\\begin{tabular}{r|lllllll}\n",
       " Year & Month & Day & Hour & Minute & Second & HYY\\_META.Pamb336\\\\\n",
       "\\hline\n",
       "\t 2020    & 3       & 9       & 0       & 0       & 0       & 980.640\\\\\n",
       "\t 2020    & 3       & 9       & 0       & 1       & 0       & 980.665\\\\\n",
       "\t 2020    & 3       & 9       & 0       & 2       & 0       & 980.670\\\\\n",
       "\t 2020    & 3       & 9       & 0       & 3       & 0       & 980.680\\\\\n",
       "\t 2020    & 3       & 9       & 0       & 4       & 0       & 980.660\\\\\n",
       "\t 2020    & 3       & 9       & 0       & 5       & 0       & 980.605\\\\\n",
       "\\end{tabular}\n"
      ],
      "text/markdown": [
       "\n",
       "| Year | Month | Day | Hour | Minute | Second | HYY_META.Pamb336 |\n",
       "|---|---|---|---|---|---|---|\n",
       "| 2020    | 3       | 9       | 0       | 0       | 0       | 980.640 |\n",
       "| 2020    | 3       | 9       | 0       | 1       | 0       | 980.665 |\n",
       "| 2020    | 3       | 9       | 0       | 2       | 0       | 980.670 |\n",
       "| 2020    | 3       | 9       | 0       | 3       | 0       | 980.680 |\n",
       "| 2020    | 3       | 9       | 0       | 4       | 0       | 980.660 |\n",
       "| 2020    | 3       | 9       | 0       | 5       | 0       | 980.605 |\n",
       "\n"
      ],
      "text/plain": [
       "  Year Month Day Hour Minute Second HYY_META.Pamb336\n",
       "1 2020 3     9   0    0      0      980.640         \n",
       "2 2020 3     9   0    1      0      980.665         \n",
       "3 2020 3     9   0    2      0      980.670         \n",
       "4 2020 3     9   0    3      0      980.680         \n",
       "5 2020 3     9   0    4      0      980.660         \n",
       "6 2020 3     9   0    5      0      980.605         "
      ]
     },
     "metadata": {},
     "output_type": "display_data"
    }
   ],
   "source": [
    "\n",
    "time2<-as.POSIXct(\"2018-10-27 12:00:00\")\n",
    "time1<-time2-86400\n",
    "tablename<-\"HYY_META\"\n",
    "variables_list<-c(\"Pamb336\",\"Tmm672\")\n",
    "avg_time=\"60MIN\"\n",
    "avg_type=\"Arithmetic\"\n",
    "\n",
    "data1<-getSmearData(time1,time2,dbtable=tablename,dbvariables=variables_list,\n",
    "    averaging=avg_time,avgtype=avg_type)\n",
    "\n",
    "head(data1)\n",
    "\n",
    "time1<-Sys.Date()\n",
    "time2<-time1+3600\n",
    "tablevariables_list=c(\"HYY_META.Pamb336\")\n",
    "\n",
    "data2<-getSmearData(time1,time2,dbtablevariables=tablevariables_list)\n",
    "\n",
    "head(data2)"
   ]
  },
  {
   "cell_type": "markdown",
   "metadata": {},
   "source": [
    "\n",
    "SmartSMEAR API gives http return codes and in most cases also meaningful error messages. Read.csv cannot handle the http codes and also tries to convert the error messages to data frame. Below some examples.\n",
    "\n",
    "Some dedicated http libraries, for instance RCurl, can handle error messages better. \n"
   ]
  },
  {
   "cell_type": "code",
   "execution_count": 11,
   "metadata": {
    "scrolled": false
   },
   "outputs": [
    {
     "name": "stdout",
     "output_type": "stream",
     "text": [
      "Error 1:\n",
      "https://avaa.tdata.fi/smear-services/smeardata.jsp?variables=xxxx&table=HYY_META&from=2020-03-08%2010:05:16&to=2020-03-08%2010:08:16&quality=ANY&averaging=NONE&type=NONE\n",
      "[1] Year   Month  Day    Hour   Minute Second\n",
      "<0 rows> (or 0-length row.names)\n",
      "Error 2:\n",
      "https://avaa.tdata.fi/smear-services/smeardata.jsp?variables=Glob&table=HYY_XXXX&from=2020-03-08%2010:05:16&to=2020-03-08%2010:08:16&quality=ANY&averaging=NONE&type=NONE\n",
      "   Invalid.table.parameter..It.should.be.one.of.\n",
      "1                                       ERO_EDDY\n",
      "2                                       HYY_META\n",
      "3                                    HYY_EDDY233\n",
      "4                                    HYY_EDDY330\n",
      "5                                    HYY_EDDYTOW\n",
      "6                                    HYY_EDDYSUB\n",
      "7                                       HYY_DMPS\n",
      "8                                       HYY_AERO\n",
      "9                                   HYY_EDDYMAST\n",
      "10                                  HYY_TREEFLOW\n",
      "11                                   HYY_AUG_REA\n",
      "12                                      KUM_META\n",
      "13                                      KUM_EDDY\n",
      "14                                      KUM_DMPS\n",
      "15                                     HYY_DMPST\n",
      "16                                      HYY_SLOW\n",
      "17                                      HYY_TREE\n",
      "18                                    VAR_HOURLY\n",
      "19                                      VAR_META\n",
      "20                                      VAR_TREE\n",
      "21                                      VAR_EDDY\n",
      "22                                      VAR_DMPS\n",
      "23                                     SII1_META\n",
      "24                                     SII1_EDDY\n",
      "25                                     SII2_META\n",
      "26                                     SII2_EDDY\n",
      "27                                      TOR_EDDY\n",
      "28                                      KPS_DMPS\n",
      "29                                      KVJ_EDDY\n",
      "30                                      KVJ_META\n",
      "31                                       PUI_cdp\n",
      "32                                  PUI_dmps_int\n",
      "33                                  PUI_dmps_tot\n",
      "34                                  PUI_maap_int\n",
      "35                                  PUI_maap_tot\n",
      "36                                  PUI_neph_int\n",
      "37                                  PUI_neph_tot\n",
      "38                                   PUI_weather\n"
     ]
    }
   ],
   "source": [
    "\n",
    "time2<-Sys.time()-86400\n",
    "time1<-time2-180\n",
    "\n",
    "writeLines(\"Error 1:\")\n",
    "data<-getSmearData(time1,time2,dbtable=\"HYY_META\",dbvariables=c(\"xxxx\"))\n",
    "if(names(data)[1]!=\"Year\" | dim(data)[1]<1) {\n",
    "  print(data)\n",
    "}\n",
    "\n",
    "writeLines(\"Error 2:\")\n",
    "data<-getSmearData(time1,time2,dbtable=\"HYY_XXXX\",dbvariables=c(\"Glob\"))\n",
    "if(names(data)[1]!=\"Year\" | dim(data)[1]<1) {\n",
    "  print(data)\n",
    "}\n"
   ]
  },
  {
   "cell_type": "markdown",
   "metadata": {},
   "source": [
    "Specific notes for AVAA API:\n",
    "\n",
    "When using tablevariables parameter, if any variable does not exist in given table, no data from that table are returned."
   ]
  },
  {
   "cell_type": "code",
   "execution_count": 12,
   "metadata": {},
   "outputs": [
    {
     "name": "stdout",
     "output_type": "stream",
     "text": [
      "https://avaa.tdata.fi/smear-services/smeardata.jsp?tablevariables=HYY_META.Glob,HYY_META.Glob67,SII1_META.Glob&from=2020-03-08%2010:05:23&to=2020-03-08%2010:08:23&quality=ANY&averaging=NONE&type=NONE\n"
     ]
    },
    {
     "data": {
      "text/html": [
       "<table>\n",
       "<thead><tr><th scope=col>Year</th><th scope=col>Month</th><th scope=col>Day</th><th scope=col>Hour</th><th scope=col>Minute</th><th scope=col>Second</th><th scope=col>HYY_META.Glob</th><th scope=col>HYY_META.Glob67</th><th scope=col>SII1_META.Glob</th></tr></thead>\n",
       "<tbody>\n",
       "\t<tr><td>2020    </td><td>3       </td><td>8       </td><td>10      </td><td>6       </td><td>0       </td><td>353.6256</td><td>255.391 </td><td>296.3937</td></tr>\n",
       "\t<tr><td>2020    </td><td>3       </td><td>8       </td><td>10      </td><td>7       </td><td>0       </td><td>353.0807</td><td>255.407 </td><td>298.5437</td></tr>\n",
       "\t<tr><td>2020    </td><td>3       </td><td>8       </td><td>10      </td><td>8       </td><td>0       </td><td>352.6501</td><td>255.186 </td><td>299.1280</td></tr>\n",
       "</tbody>\n",
       "</table>\n"
      ],
      "text/latex": [
       "\\begin{tabular}{r|lllllllll}\n",
       " Year & Month & Day & Hour & Minute & Second & HYY\\_META.Glob & HYY\\_META.Glob67 & SII1\\_META.Glob\\\\\n",
       "\\hline\n",
       "\t 2020     & 3        & 8        & 10       & 6        & 0        & 353.6256 & 255.391  & 296.3937\\\\\n",
       "\t 2020     & 3        & 8        & 10       & 7        & 0        & 353.0807 & 255.407  & 298.5437\\\\\n",
       "\t 2020     & 3        & 8        & 10       & 8        & 0        & 352.6501 & 255.186  & 299.1280\\\\\n",
       "\\end{tabular}\n"
      ],
      "text/markdown": [
       "\n",
       "| Year | Month | Day | Hour | Minute | Second | HYY_META.Glob | HYY_META.Glob67 | SII1_META.Glob |\n",
       "|---|---|---|---|---|---|---|---|---|\n",
       "| 2020     | 3        | 8        | 10       | 6        | 0        | 353.6256 | 255.391  | 296.3937 |\n",
       "| 2020     | 3        | 8        | 10       | 7        | 0        | 353.0807 | 255.407  | 298.5437 |\n",
       "| 2020     | 3        | 8        | 10       | 8        | 0        | 352.6501 | 255.186  | 299.1280 |\n",
       "\n"
      ],
      "text/plain": [
       "  Year Month Day Hour Minute Second HYY_META.Glob HYY_META.Glob67\n",
       "1 2020 3     8   10   6      0      353.6256      255.391        \n",
       "2 2020 3     8   10   7      0      353.0807      255.407        \n",
       "3 2020 3     8   10   8      0      352.6501      255.186        \n",
       "  SII1_META.Glob\n",
       "1 296.3937      \n",
       "2 298.5437      \n",
       "3 299.1280      "
      ]
     },
     "metadata": {},
     "output_type": "display_data"
    },
    {
     "name": "stdout",
     "output_type": "stream",
     "text": [
      "https://avaa.tdata.fi/smear-services/smeardata.jsp?tablevariables=HYY_META.Glob,HYY_META.Glob127,SII1_META.Glob&from=2020-03-08%2010:05:23&to=2020-03-08%2010:08:23&quality=ANY&averaging=NONE&type=NONE\n"
     ]
    },
    {
     "data": {
      "text/html": [
       "<table>\n",
       "<thead><tr><th scope=col>Year</th><th scope=col>Month</th><th scope=col>Day</th><th scope=col>Hour</th><th scope=col>Minute</th><th scope=col>Second</th><th scope=col>SII1_META.Glob</th></tr></thead>\n",
       "<tbody>\n",
       "\t<tr><td>2020    </td><td>3       </td><td>8       </td><td>10      </td><td>6       </td><td>0       </td><td>296.3937</td></tr>\n",
       "\t<tr><td>2020    </td><td>3       </td><td>8       </td><td>10      </td><td>7       </td><td>0       </td><td>298.5437</td></tr>\n",
       "\t<tr><td>2020    </td><td>3       </td><td>8       </td><td>10      </td><td>8       </td><td>0       </td><td>299.1280</td></tr>\n",
       "</tbody>\n",
       "</table>\n"
      ],
      "text/latex": [
       "\\begin{tabular}{r|lllllll}\n",
       " Year & Month & Day & Hour & Minute & Second & SII1\\_META.Glob\\\\\n",
       "\\hline\n",
       "\t 2020     & 3        & 8        & 10       & 6        & 0        & 296.3937\\\\\n",
       "\t 2020     & 3        & 8        & 10       & 7        & 0        & 298.5437\\\\\n",
       "\t 2020     & 3        & 8        & 10       & 8        & 0        & 299.1280\\\\\n",
       "\\end{tabular}\n"
      ],
      "text/markdown": [
       "\n",
       "| Year | Month | Day | Hour | Minute | Second | SII1_META.Glob |\n",
       "|---|---|---|---|---|---|---|\n",
       "| 2020     | 3        | 8        | 10       | 6        | 0        | 296.3937 |\n",
       "| 2020     | 3        | 8        | 10       | 7        | 0        | 298.5437 |\n",
       "| 2020     | 3        | 8        | 10       | 8        | 0        | 299.1280 |\n",
       "\n"
      ],
      "text/plain": [
       "  Year Month Day Hour Minute Second SII1_META.Glob\n",
       "1 2020 3     8   10   6      0      296.3937      \n",
       "2 2020 3     8   10   7      0      298.5437      \n",
       "3 2020 3     8   10   8      0      299.1280      "
      ]
     },
     "metadata": {},
     "output_type": "display_data"
    }
   ],
   "source": [
    "\n",
    "time2<-Sys.time()-86400\n",
    "time1<-time2-180\n",
    "\n",
    "# All variables exist\n",
    "data<-getSmearData(time1,time2,dbtablevariables=c(\"HYY_META.Glob\",\"HYY_META.Glob67\",\"SII1_META.Glob\"))\n",
    "head(data)\n",
    "\n",
    "# Glob127 does not exist in HYY_META, only data from SII1_META are returned\n",
    "data<-getSmearData(time1,time2,dbtablevariables=c(\"HYY_META.Glob\",\"HYY_META.Glob127\",\"SII1_META.Glob\"))\n",
    "data\n",
    "\n"
   ]
  },
  {
   "cell_type": "markdown",
   "metadata": {},
   "source": [
    "Specific notes for AVAA API:\n",
    "\n",
    "Sometimes there are missing rows in the database, align the rows with merge.\n",
    "\n",
    "Example: Hyytiälä and Siikaneva 1 meteo data in 2004/2005"
   ]
  },
  {
   "cell_type": "code",
   "execution_count": 17,
   "metadata": {},
   "outputs": [
    {
     "data": {
      "text/html": [
       "<table>\n",
       "<thead><tr><th scope=col>Parameter.type.should.have.one.of.the.following.values..NONE</th><th scope=col>GEOMETRIC</th><th scope=col>ARITHMETIC</th><th scope=col>SUM</th><th scope=col>MEDIAN</th><th scope=col>MAX</th><th scope=col>MIN</th><th scope=col>AVAILABILITY</th><th scope=col>CIRCULAR</th></tr></thead>\n",
       "<tbody>\n",
       "</tbody>\n",
       "</table>\n"
      ],
      "text/latex": [
       "\\begin{tabular}{r|lllllllll}\n",
       " Parameter.type.should.have.one.of.the.following.values..NONE & GEOMETRIC & ARITHMETIC & SUM & MEDIAN & MAX & MIN & AVAILABILITY & CIRCULAR\\\\\n",
       "\\hline\n",
       "\\end{tabular}\n"
      ],
      "text/markdown": [
       "\n",
       "| Parameter.type.should.have.one.of.the.following.values..NONE | GEOMETRIC | ARITHMETIC | SUM | MEDIAN | MAX | MIN | AVAILABILITY | CIRCULAR |\n",
       "|---|---|---|---|---|---|---|---|---|\n",
       "\n"
      ],
      "text/plain": [
       "     Parameter.type.should.have.one.of.the.following.values..NONE GEOMETRIC\n",
       "     ARITHMETIC SUM MEDIAN MAX MIN AVAILABILITY CIRCULAR"
      ]
     },
     "metadata": {},
     "output_type": "display_data"
    },
    {
     "data": {
      "text/html": [
       "<table>\n",
       "<thead><tr><th scope=col>Parameter.type.should.have.one.of.the.following.values..NONE</th><th scope=col>GEOMETRIC</th><th scope=col>ARITHMETIC</th><th scope=col>SUM</th><th scope=col>MEDIAN</th><th scope=col>MAX</th><th scope=col>MIN</th><th scope=col>AVAILABILITY</th><th scope=col>CIRCULAR</th></tr></thead>\n",
       "<tbody>\n",
       "</tbody>\n",
       "</table>\n"
      ],
      "text/latex": [
       "\\begin{tabular}{r|lllllllll}\n",
       " Parameter.type.should.have.one.of.the.following.values..NONE & GEOMETRIC & ARITHMETIC & SUM & MEDIAN & MAX & MIN & AVAILABILITY & CIRCULAR\\\\\n",
       "\\hline\n",
       "\\end{tabular}\n"
      ],
      "text/markdown": [
       "\n",
       "| Parameter.type.should.have.one.of.the.following.values..NONE | GEOMETRIC | ARITHMETIC | SUM | MEDIAN | MAX | MIN | AVAILABILITY | CIRCULAR |\n",
       "|---|---|---|---|---|---|---|---|---|\n",
       "\n"
      ],
      "text/plain": [
       "     Parameter.type.should.have.one.of.the.following.values..NONE GEOMETRIC\n",
       "     ARITHMETIC SUM MEDIAN MAX MIN AVAILABILITY CIRCULAR"
      ]
     },
     "metadata": {},
     "output_type": "display_data"
    },
    {
     "data": {
      "text/html": [
       "<table>\n",
       "<thead><tr><th scope=col>Parameter.type.should.have.one.of.the.following.values..NONE</th><th scope=col>GEOMETRIC</th><th scope=col>ARITHMETIC</th><th scope=col>SUM</th><th scope=col>MEDIAN</th><th scope=col>MAX</th><th scope=col>MIN</th><th scope=col>AVAILABILITY</th><th scope=col>CIRCULAR</th></tr></thead>\n",
       "<tbody>\n",
       "</tbody>\n",
       "</table>\n"
      ],
      "text/latex": [
       "\\begin{tabular}{r|lllllllll}\n",
       " Parameter.type.should.have.one.of.the.following.values..NONE & GEOMETRIC & ARITHMETIC & SUM & MEDIAN & MAX & MIN & AVAILABILITY & CIRCULAR\\\\\n",
       "\\hline\n",
       "\\end{tabular}\n"
      ],
      "text/markdown": [
       "\n",
       "| Parameter.type.should.have.one.of.the.following.values..NONE | GEOMETRIC | ARITHMETIC | SUM | MEDIAN | MAX | MIN | AVAILABILITY | CIRCULAR |\n",
       "|---|---|---|---|---|---|---|---|---|\n",
       "\n"
      ],
      "text/plain": [
       "     Parameter.type.should.have.one.of.the.following.values..NONE GEOMETRIC\n",
       "     ARITHMETIC SUM MEDIAN MAX MIN AVAILABILITY CIRCULAR"
      ]
     },
     "metadata": {},
     "output_type": "display_data"
    }
   ],
   "source": [
    "urlstring<-\"https://avaa.tdata.fi/smear-services/smeardata.jsp?variables=T168&table=HYY_META&from=2004-12-31%2023:00:00&to=2005-01-01%2001:00:00&quality=ANY&averaging=30min&type=arithmetic\"\n",
    "\n",
    "urlstring2<-\"https://avaa.tdata.fi/smear-services/smeardata.jsp?variables=T_a&table=SII1_META&from=2004-12-31% 23:00:00&to=2005-01-01%2001:00:00&quality=ANY&averaging=30min&type=arithmetic\"\n",
    "\n",
    "data<-read.csv(urlstring)\n",
    "data\n",
    "\n",
    "data2<-read.csv(urlstring2)\n",
    "data2\n",
    "\n",
    "merge(data,data2,all=TRUE)"
   ]
  }
 ],
 "metadata": {
  "kernelspec": {
   "display_name": "R",
   "language": "R",
   "name": "ir"
  },
  "language_info": {
   "codemirror_mode": "r",
   "file_extension": ".r",
   "mimetype": "text/x-r-source",
   "name": "R",
   "pygments_lexer": "r",
   "version": "3.6.1"
  }
 },
 "nbformat": 4,
 "nbformat_minor": 2
}
