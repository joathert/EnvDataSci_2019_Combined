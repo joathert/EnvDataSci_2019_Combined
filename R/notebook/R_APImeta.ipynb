{
 "cells": [
  {
   "cell_type": "markdown",
   "metadata": {},
   "source": [
    "Getting metadata is simple but read.csv cannot parse the returned json-formatted text.\n",
    "You can however force csv output.\n",
    "\n",
    "Metadata are UTF-8 encoded, sub/superscripts etc. might not show correctly here."
   ]
  },
  {
   "cell_type": "code",
   "execution_count": null,
   "metadata": {
    "scrolled": false
   },
   "outputs": [],
   "source": [
    "url<-\"https://avaa.tdata.fi/smart-smear-portlet/variablemeta.jsp?tablevariables=HYY_META.Glob\"\n",
    "\n",
    "meta<-read.csv(url)\n",
    "\n",
    "meta\n",
    "\n",
    "url<-\"https://avaa.tdata.fi/smart-smear-portlet/variablemeta.jsp?tablevariables=HYY_META.Glob&format=csv\"\n",
    "\n",
    "meta<-read.csv(url)\n",
    "\n",
    "meta"
   ]
  },
  {
   "cell_type": "markdown",
   "metadata": {},
   "source": [
    "There are libraries like jsonlite that help converting json metadata into data frame. "
   ]
  },
  {
   "cell_type": "code",
   "execution_count": null,
   "metadata": {},
   "outputs": [],
   "source": [
    "library(jsonlite)\n",
    "\n",
    "url<-\"https://avaa.tdata.fi/smart-smear-portlet/variablemeta.jsp?variable=PAR\"\n",
    "\n",
    "meta<-fromJSON(txt=url)\n",
    "\n",
    "class(meta)\n",
    "meta\n"
   ]
  },
  {
   "cell_type": "markdown",
   "metadata": {},
   "source": [
    "Some APIs return data in more complicated format...\n",
    "This is FMI open data service:"
   ]
  },
  {
   "cell_type": "code",
   "execution_count": null,
   "metadata": {},
   "outputs": [],
   "source": [
    "\n",
    "url<-\"http://opendata.fmi.fi/wfs?request=getFeature&storedquery_id=fmi::observations::weather::timevaluepair&fmisid=101317&starttime=2020-01-01&endtime=2020-01-02\"\n",
    "\n",
    "res<-scan(url,what=character())\n",
    "\n",
    "res\n"
   ]
  },
  {
   "cell_type": "code",
   "execution_count": null,
   "metadata": {},
   "outputs": [],
   "source": []
  }
 ],
 "metadata": {
  "kernelspec": {
   "display_name": "R",
   "language": "R",
   "name": "ir"
  },
  "language_info": {
   "codemirror_mode": "r",
   "file_extension": ".r",
   "mimetype": "text/x-r-source",
   "name": "R",
   "pygments_lexer": "r",
   "version": "3.6.1"
  }
 },
 "nbformat": 4,
 "nbformat_minor": 4
}
