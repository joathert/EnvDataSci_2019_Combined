{
 "cells": [
  {
   "cell_type": "markdown",
   "metadata": {},
   "source": [
    "Example SmartSMEAR API calls, see https://avaa.tdata.fi/web/smart/smear/api"
   ]
  },
  {
   "cell_type": "code",
   "execution_count": null,
   "metadata": {},
   "outputs": [],
   "source": [
    "urlstring = \"https://avaa.tdata.fi/smear-services/smeardata.jsp?variables=Pamb0,UV_B&table=HYY_META&from=2016-02-11%2000:00:00.989&to=2016-02-12%2009:06:07.989&quality=ANY&averaging=30MIN&type=ARITHMETIC\""
   ]
  },
  {
   "cell_type": "code",
   "execution_count": null,
   "metadata": {},
   "outputs": [],
   "source": [
    "print(urlstring)"
   ]
  },
  {
   "cell_type": "markdown",
   "metadata": {},
   "source": [
    "The Pandas libary, which replicates much of R's usefullness, has a read_csv function which you feed URLs to"
   ]
  },
  {
   "cell_type": "code",
   "execution_count": null,
   "metadata": {},
   "outputs": [],
   "source": [
    "import pandas as pd"
   ]
  },
  {
   "cell_type": "code",
   "execution_count": null,
   "metadata": {},
   "outputs": [],
   "source": [
    "data = pd.read_csv(urlstring)\n",
    "data.head()"
   ]
  },
  {
   "cell_type": "markdown",
   "metadata": {},
   "source": [
    "we will utlise numpy and datetime modules to convert datetime columns to more convenient data type:\n"
   ]
  },
  {
   "cell_type": "code",
   "execution_count": null,
   "metadata": {},
   "outputs": [],
   "source": [
    "import numpy as np\n",
    "import datetime"
   ]
  },
  {
   "cell_type": "code",
   "execution_count": null,
   "metadata": {},
   "outputs": [],
   "source": [
    "date_numpy = data.values[:,0:6]\n",
    "\n",
    "# convert numpy.float64 to int\n",
    "date_numpy = date_numpy.astype(int)\n",
    "\n",
    "# convert numpy array to datetime:\n",
    "date_time= np.array([datetime.datetime(*x) for x in date_numpy])\n",
    "\n",
    "# print out first three datetimes\n",
    "print(date_time[:3])"
   ]
  },
  {
   "cell_type": "markdown",
   "metadata": {},
   "source": [
    "API makes your life easier when doing dynamic data retrievals within data processing/analysis scripts.\n",
    "\n",
    "For example, we can use string formatting to seperate out the variables, which is useful for when we want to chose different times or dates or a different table:\n"
   ]
  },
  {
   "cell_type": "code",
   "execution_count": null,
   "metadata": {},
   "outputs": [],
   "source": [
    "date_start=\"2016-02-14%2000:00:00\"\n",
    "date_end=\"2016-02-15%2009:06:00\"\n",
    "table=\"HYY_META\"\n",
    "quality=\"ANY\"\n",
    "averaging=\"NONE\"\n",
    "stype=\"NONE\"\n",
    "variables=\"Pamb0,UV_B\"\n",
    "urlstring2=(\"https://avaa.tdata.fi/smear-services/smeardata.jsp?\"\n",
    "             \"table={0}\" \n",
    "             \"&variables={1}\"\n",
    "             \"&from={2}\"\n",
    "             \"&to={3}\"\n",
    "             \"&quality={4}\"\n",
    "             \"&averaging={5}\"\n",
    "             \"&type={6}\"\n",
    "             \"&format=csv\").format(table,variables,date_start,\n",
    "                                   date_end,quality,averaging,stype)\n",
    "\n"
   ]
  },
  {
   "cell_type": "code",
   "execution_count": null,
   "metadata": {},
   "outputs": [],
   "source": [
    "data2 = pd.read_csv(urlstring2)\n",
    "data2.head()"
   ]
  },
  {
   "cell_type": "markdown",
   "metadata": {},
   "source": [
    "Below are two simple functions for constructing API call from given parameters and downloading data. Named parameters are used so the user can give table and variables separately or use table.variable notation, give parameters in any order and skip irrelevant parameters. Different types of error affect the returned data in different ways. Be careful and take note of the column names of the returned data frame!"
   ]
  },
  {
   "cell_type": "code",
   "execution_count": null,
   "metadata": {},
   "outputs": [],
   "source": [
    "def datetime_converter(df):\n",
    "    date_numpy=df.values[:,0:6]\n",
    "\n",
    "    # convert numpy.float64 to int\n",
    "    date_numpy=date_numpy.astype(int)\n",
    "\n",
    "    # convert numpy array to datetime:\n",
    "    date_time= np.array([datetime.datetime(*x) for x in date_numpy])\n",
    "    \n",
    "    return date_time \n",
    "\n",
    "\n",
    "def getVariables(variables,date_start,date_end,\n",
    "                 table=\"HYY_META\",quality=\"ANY\",averaging=\"NONE\",\n",
    "                 stype=\"NONE\",index_date=False):\n",
    "    \"\"\"\n",
    "    e.g.\n",
    "    date format 2015-01-01 00:00:00\n",
    "    TableName=\"VAR_DMPS\"\n",
    "    From=\"2017-05-01%2000:00:00\"\n",
    "    To=\"2017-05-01%2001:00:00\"\n",
    "    Quality=\"checked\" #\"ANY\"\n",
    "    Averaging=\"30MIN\"\n",
    "    Type=\"ARITHMETIC\"\n",
    "    \n",
    "    \"\"\"\n",
    "    url=(\"https://avaa.tdata.fi/smear-services/smeardata.jsp?\"\n",
    "         \"table={0}\" \n",
    "         \"&variables={1}\"\n",
    "         \"&from={2}\"\n",
    "         \"&to={3}\"\n",
    "         \"&quality={4}\"\n",
    "         \"&averaging={5}\"\n",
    "         \"&type={6}\"\n",
    "         \"&format=csv\").format(table,variables,date_start,\n",
    "                               date_end,quality,averaging,stype)\n",
    "    \n",
    "    df = pd.read_csv(url)\n",
    "    \n",
    "    if index_date:\n",
    "        date_index = datetime_converter(df)\n",
    "        df.index = date_index\n",
    "    return df"
   ]
  },
  {
   "cell_type": "markdown",
   "metadata": {},
   "source": [
    "Here's an example of the function in action:"
   ]
  },
  {
   "cell_type": "code",
   "execution_count": null,
   "metadata": {},
   "outputs": [],
   "source": [
    "date_start=\"2018-07-01%2000:00:00\"\n",
    "date_end=\"2018-07-02%2001:00:00\"\n",
    "variables=\"PAR\"\n",
    "df = getVariables(variables,date_start,date_end,\n",
    "                  table=\"HYY_META\",quality=\"CHECKED\",\n",
    "                  stype=\"NONE\",index_date=True)"
   ]
  },
  {
   "cell_type": "code",
   "execution_count": null,
   "metadata": {
    "scrolled": true
   },
   "outputs": [],
   "source": [
    "df[u\"HYY_META.PAR\"].plot()"
   ]
  },
  {
   "cell_type": "markdown",
   "metadata": {},
   "source": [
    "Although SmartSMEAR API gives http return codes and in most cases also meaningful error messages, this information may not be obvious in our output due to the way that read_csv works.  Let's try out an unrealistic variable and see what happens:"
   ]
  },
  {
   "cell_type": "code",
   "execution_count": null,
   "metadata": {},
   "outputs": [],
   "source": [
    "date_start=\"2018-07-01%2000:00:00\"\n",
    "date_end=\"2018-07-02%2001:00:00\"\n",
    "variables=\"XXXX\"\n",
    "df = getVariables(variables,date_start,date_end,\n",
    "                  table=\"HYY_META\",quality=\"CHECKED\",\n",
    "                  stype=\"NONE\",index_date=True)\n",
    "print(df)"
   ]
  },
  {
   "cell_type": "markdown",
   "metadata": {},
   "source": [
    "Specific notes for AVAA API:\n",
    "\n",
    "When using variables parameter, if any variable does not exist in given table, no data from that table are returned."
   ]
  },
  {
   "cell_type": "code",
   "execution_count": null,
   "metadata": {},
   "outputs": [],
   "source": [
    "date_start=\"2018-07-01%2000:00:00\"\n",
    "date_end=\"2018-07-02%2001:00:00\"\n",
    "variables=\"PAR,XXXX\"\n",
    "df = getVariables(variables,date_start,date_end,\n",
    "                  table=\"HYY_META\",quality=\"CHECKED\",\n",
    "                  stype=\"NONE\",index_date=True)\n",
    "print(df)"
   ]
  },
  {
   "cell_type": "code",
   "execution_count": null,
   "metadata": {},
   "outputs": [],
   "source": [
    "Specific notes for AVAA API:\n",
    "\n",
    "Sometimes there are missing rows in the database, align the rows with merge.\n",
    "\n",
    "Example: Hyytiälä and Siikaneva 1 meteo data in 2004/2005\n"
   ]
  },
  {
   "cell_type": "code",
   "execution_count": null,
   "metadata": {},
   "outputs": [],
   "source": [
    "date_start=\"2004-12-31%2023:00:00\"\n",
    "date_end=\"2005-01-01%2001:00:00\"\n",
    "variables=\"T168\"\n",
    "df = getVariables(variables,date_start,date_end,\n",
    "                  table=\"HYY_META\",quality=\"CHECKED\",\n",
    "                  stype=\"NONE\",index_date=True)\n",
    "\n",
    "variables=\"T_a\"\n",
    "df2 = getVariables(variables,date_start,date_end,\n",
    "                  table=\"SII1_META\",quality=\"CHECKED\",\n",
    "                  stype=\"NONE\",index_date=True)\n",
    "\n",
    "# join them together like this\n",
    "df.join(df2, lsuffix='_HYY', rsuffix='_SII1')\n"
   ]
  }
 ],
 "metadata": {
  "kernelspec": {
   "display_name": "Python 2",
   "language": "python",
   "name": "python2"
  },
  "language_info": {
   "codemirror_mode": {
    "name": "ipython",
    "version": 2
   },
   "file_extension": ".py",
   "mimetype": "text/x-python",
   "name": "python",
   "nbconvert_exporter": "python",
   "pygments_lexer": "ipython2",
   "version": "2.7.17"
  }
 },
 "nbformat": 4,
 "nbformat_minor": 2
}
